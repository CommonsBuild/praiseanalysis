{
 "cells": [
  {
   "cell_type": "markdown",
   "metadata": {
    "id": "uCoZkCUYZshr"
   },
   "source": [
    "# The first part of this notebook loads the data. It was done by @ygg_anderson "
   ]
  },
  {
   "cell_type": "code",
   "execution_count": 1,
   "metadata": {
    "colab": {
     "base_uri": "https://localhost:8080/",
     "height": 17
    },
    "id": "3Ln-eNbXZshu",
    "outputId": "e187c2f9-221b-4fe7-c66f-931f539791d3"
   },
   "outputs": [
    {
     "data": {
      "application/javascript": [
       "\n",
       "(function(root) {\n",
       "  function now() {\n",
       "    return new Date();\n",
       "  }\n",
       "\n",
       "  var force = true;\n",
       "\n",
       "  if (typeof root._bokeh_onload_callbacks === \"undefined\" || force === true) {\n",
       "    root._bokeh_onload_callbacks = [];\n",
       "    root._bokeh_is_loading = undefined;\n",
       "  }\n",
       "\n",
       "  if (typeof (root._bokeh_timeout) === \"undefined\" || force === true) {\n",
       "    root._bokeh_timeout = Date.now() + 5000;\n",
       "    root._bokeh_failed_load = false;\n",
       "  }\n",
       "\n",
       "  function run_callbacks() {\n",
       "    try {\n",
       "      root._bokeh_onload_callbacks.forEach(function(callback) {\n",
       "        if (callback != null)\n",
       "          callback();\n",
       "      });\n",
       "    } finally {\n",
       "      delete root._bokeh_onload_callbacks\n",
       "    }\n",
       "    console.debug(\"Bokeh: all callbacks have finished\");\n",
       "  }\n",
       "\n",
       "  function load_libs(css_urls, js_urls, js_modules, callback) {\n",
       "    if (css_urls == null) css_urls = [];\n",
       "    if (js_urls == null) js_urls = [];\n",
       "    if (js_modules == null) js_modules = [];\n",
       "\n",
       "    root._bokeh_onload_callbacks.push(callback);\n",
       "    if (root._bokeh_is_loading > 0) {\n",
       "      console.debug(\"Bokeh: BokehJS is being loaded, scheduling callback at\", now());\n",
       "      return null;\n",
       "    }\n",
       "    if (js_urls.length === 0 && js_modules.length === 0) {\n",
       "      run_callbacks();\n",
       "      return null;\n",
       "    }\n",
       "    console.debug(\"Bokeh: BokehJS not loaded, scheduling load and callback at\", now());\n",
       "    root._bokeh_is_loading = css_urls.length + js_urls.length + js_modules.length;\n",
       "\n",
       "    function on_load() {\n",
       "      root._bokeh_is_loading--;\n",
       "      if (root._bokeh_is_loading === 0) {\n",
       "        console.debug(\"Bokeh: all BokehJS libraries/stylesheets loaded\");\n",
       "        run_callbacks()\n",
       "      }\n",
       "    }\n",
       "\n",
       "    function on_error() {\n",
       "      console.error(\"failed to load \" + url);\n",
       "    }\n",
       "\n",
       "    for (var i = 0; i < css_urls.length; i++) {\n",
       "      var url = css_urls[i];\n",
       "      const element = document.createElement(\"link\");\n",
       "      element.onload = on_load;\n",
       "      element.onerror = on_error;\n",
       "      element.rel = \"stylesheet\";\n",
       "      element.type = \"text/css\";\n",
       "      element.href = url;\n",
       "      console.debug(\"Bokeh: injecting link tag for BokehJS stylesheet: \", url);\n",
       "      document.body.appendChild(element);\n",
       "    }\n",
       "\n",
       "    var skip = [];\n",
       "    if (window.requirejs) {\n",
       "      window.requirejs.config({'paths': {'tabulator': 'https://unpkg.com/tabulator-tables@4.9.3/dist/js/tabulator'}});\n",
       "      require([\"tabulator\"], function(Tabulator,) {\n",
       "        window.Tabulator = Tabulator;\n",
       "      })\n",
       "    }\n",
       "    if (((window['tabulator'] !== undefined) && (!(window['tabulator'] instanceof HTMLElement))) || window.requirejs) {\n",
       "      var urls = ['https://unpkg.com/tabulator-tables@4.9.3/dist/js/tabulator.js', 'https://unpkg.com/moment@2.27.0/moment.js'];\n",
       "      for (var i = 0; i < urls.length; i++) {\n",
       "        skip.push(urls[i])\n",
       "      }\n",
       "    }\n",
       "    for (var i = 0; i < js_urls.length; i++) {\n",
       "      var url = js_urls[i];\n",
       "      if (skip.indexOf(url) >= 0) { on_load(); continue; }\n",
       "      var element = document.createElement('script');\n",
       "      element.onload = on_load;\n",
       "      element.onerror = on_error;\n",
       "      element.async = false;\n",
       "      element.src = url;\n",
       "      console.debug(\"Bokeh: injecting script tag for BokehJS library: \", url);\n",
       "      document.head.appendChild(element);\n",
       "    }\n",
       "    for (var i = 0; i < js_modules.length; i++) {\n",
       "      var url = js_modules[i];\n",
       "      if (skip.indexOf(url) >= 0) { on_load(); continue; }\n",
       "      var element = document.createElement('script');\n",
       "      element.onload = on_load;\n",
       "      element.onerror = on_error;\n",
       "      element.async = false;\n",
       "      element.src = url;\n",
       "      element.type = \"module\";\n",
       "      console.debug(\"Bokeh: injecting script tag for BokehJS library: \", url);\n",
       "      document.head.appendChild(element);\n",
       "    }\n",
       "    if (!js_urls.length && !js_modules.length) {\n",
       "      on_load()\n",
       "    }\n",
       "  };\n",
       "\n",
       "  function inject_raw_css(css) {\n",
       "    const element = document.createElement(\"style\");\n",
       "    element.appendChild(document.createTextNode(css));\n",
       "    document.body.appendChild(element);\n",
       "  }\n",
       "\n",
       "  var js_urls = [\"https://unpkg.com/tabulator-tables@4.9.3/dist/js/tabulator.js\", \"https://unpkg.com/moment@2.27.0/moment.js\", \"https://cdn.bokeh.org/bokeh/release/bokeh-2.3.2.min.js\", \"https://cdn.bokeh.org/bokeh/release/bokeh-widgets-2.3.2.min.js\", \"https://cdn.bokeh.org/bokeh/release/bokeh-tables-2.3.2.min.js\", \"https://unpkg.com/@holoviz/panel@^0.11.3/dist/panel.min.js\"];\n",
       "  var js_modules = [];\n",
       "  var css_urls = [\"https://unpkg.com/tabulator-tables@4.9.3/dist/css/tabulator_simple.min.css\", \"https://unpkg.com/@holoviz/panel@0.11.3/dist/css/alerts.css\", \"https://unpkg.com/@holoviz/panel@0.11.3/dist/css/card.css\", \"https://unpkg.com/@holoviz/panel@0.11.3/dist/css/dataframe.css\", \"https://unpkg.com/@holoviz/panel@0.11.3/dist/css/json.css\", \"https://unpkg.com/@holoviz/panel@0.11.3/dist/css/loading.css\", \"https://unpkg.com/@holoviz/panel@0.11.3/dist/css/markdown.css\", \"https://unpkg.com/@holoviz/panel@0.11.3/dist/css/widgets.css\"];\n",
       "  var inline_js = [\n",
       "    function(Bokeh) {\n",
       "      inject_raw_css(\"\\n    .bk.pn-loading.arcs:before {\\n      background-image: url(\\\"data:image/svg+xml;base64,PHN2ZyB4bWxucz0iaHR0cDovL3d3dy53My5vcmcvMjAwMC9zdmciIHhtbG5zOnhsaW5rPSJodHRwOi8vd3d3LnczLm9yZy8xOTk5L3hsaW5rIiBzdHlsZT0ibWFyZ2luOiBhdXRvOyBiYWNrZ3JvdW5kOiBub25lOyBkaXNwbGF5OiBibG9jazsgc2hhcGUtcmVuZGVyaW5nOiBhdXRvOyIgdmlld0JveD0iMCAwIDEwMCAxMDAiIHByZXNlcnZlQXNwZWN0UmF0aW89InhNaWRZTWlkIj4gIDxjaXJjbGUgY3g9IjUwIiBjeT0iNTAiIHI9IjMyIiBzdHJva2Utd2lkdGg9IjgiIHN0cm9rZT0iI2MzYzNjMyIgc3Ryb2tlLWRhc2hhcnJheT0iNTAuMjY1NDgyNDU3NDM2NjkgNTAuMjY1NDgyNDU3NDM2NjkiIGZpbGw9Im5vbmUiIHN0cm9rZS1saW5lY2FwPSJyb3VuZCI+ICAgIDxhbmltYXRlVHJhbnNmb3JtIGF0dHJpYnV0ZU5hbWU9InRyYW5zZm9ybSIgdHlwZT0icm90YXRlIiByZXBlYXRDb3VudD0iaW5kZWZpbml0ZSIgZHVyPSIxcyIga2V5VGltZXM9IjA7MSIgdmFsdWVzPSIwIDUwIDUwOzM2MCA1MCA1MCI+PC9hbmltYXRlVHJhbnNmb3JtPiAgPC9jaXJjbGU+PC9zdmc+\\\")\\n    }\\n    \");\n",
       "    },\n",
       "    function(Bokeh) {\n",
       "      Bokeh.set_log_level(\"info\");\n",
       "    },\n",
       "    function(Bokeh) {} // ensure no trailing comma for IE\n",
       "  ];\n",
       "\n",
       "  function run_inline_js() {\n",
       "    if ((root.Bokeh !== undefined) || (force === true)) {\n",
       "      for (var i = 0; i < inline_js.length; i++) {\n",
       "        inline_js[i].call(root, root.Bokeh);\n",
       "      }} else if (Date.now() < root._bokeh_timeout) {\n",
       "      setTimeout(run_inline_js, 100);\n",
       "    } else if (!root._bokeh_failed_load) {\n",
       "      console.log(\"Bokeh: BokehJS failed to load within specified timeout.\");\n",
       "      root._bokeh_failed_load = true;\n",
       "    }\n",
       "  }\n",
       "\n",
       "  if (root._bokeh_is_loading === 0) {\n",
       "    console.debug(\"Bokeh: BokehJS loaded, going straight to plotting\");\n",
       "    run_inline_js();\n",
       "  } else {\n",
       "    load_libs(css_urls, js_urls, js_modules, function() {\n",
       "      console.debug(\"Bokeh: BokehJS plotting callback run at\", now());\n",
       "      run_inline_js();\n",
       "    });\n",
       "  }\n",
       "}(window));"
      ],
      "application/vnd.holoviews_load.v0+json": "\n(function(root) {\n  function now() {\n    return new Date();\n  }\n\n  var force = true;\n\n  if (typeof root._bokeh_onload_callbacks === \"undefined\" || force === true) {\n    root._bokeh_onload_callbacks = [];\n    root._bokeh_is_loading = undefined;\n  }\n\n  if (typeof (root._bokeh_timeout) === \"undefined\" || force === true) {\n    root._bokeh_timeout = Date.now() + 5000;\n    root._bokeh_failed_load = false;\n  }\n\n  function run_callbacks() {\n    try {\n      root._bokeh_onload_callbacks.forEach(function(callback) {\n        if (callback != null)\n          callback();\n      });\n    } finally {\n      delete root._bokeh_onload_callbacks\n    }\n    console.debug(\"Bokeh: all callbacks have finished\");\n  }\n\n  function load_libs(css_urls, js_urls, js_modules, callback) {\n    if (css_urls == null) css_urls = [];\n    if (js_urls == null) js_urls = [];\n    if (js_modules == null) js_modules = [];\n\n    root._bokeh_onload_callbacks.push(callback);\n    if (root._bokeh_is_loading > 0) {\n      console.debug(\"Bokeh: BokehJS is being loaded, scheduling callback at\", now());\n      return null;\n    }\n    if (js_urls.length === 0 && js_modules.length === 0) {\n      run_callbacks();\n      return null;\n    }\n    console.debug(\"Bokeh: BokehJS not loaded, scheduling load and callback at\", now());\n    root._bokeh_is_loading = css_urls.length + js_urls.length + js_modules.length;\n\n    function on_load() {\n      root._bokeh_is_loading--;\n      if (root._bokeh_is_loading === 0) {\n        console.debug(\"Bokeh: all BokehJS libraries/stylesheets loaded\");\n        run_callbacks()\n      }\n    }\n\n    function on_error() {\n      console.error(\"failed to load \" + url);\n    }\n\n    for (var i = 0; i < css_urls.length; i++) {\n      var url = css_urls[i];\n      const element = document.createElement(\"link\");\n      element.onload = on_load;\n      element.onerror = on_error;\n      element.rel = \"stylesheet\";\n      element.type = \"text/css\";\n      element.href = url;\n      console.debug(\"Bokeh: injecting link tag for BokehJS stylesheet: \", url);\n      document.body.appendChild(element);\n    }\n\n    var skip = [];\n    if (window.requirejs) {\n      window.requirejs.config({'paths': {'tabulator': 'https://unpkg.com/tabulator-tables@4.9.3/dist/js/tabulator'}});\n      require([\"tabulator\"], function(Tabulator,) {\n        window.Tabulator = Tabulator;\n      })\n    }\n    if (((window['tabulator'] !== undefined) && (!(window['tabulator'] instanceof HTMLElement))) || window.requirejs) {\n      var urls = ['https://unpkg.com/tabulator-tables@4.9.3/dist/js/tabulator.js', 'https://unpkg.com/moment@2.27.0/moment.js'];\n      for (var i = 0; i < urls.length; i++) {\n        skip.push(urls[i])\n      }\n    }\n    for (var i = 0; i < js_urls.length; i++) {\n      var url = js_urls[i];\n      if (skip.indexOf(url) >= 0) { on_load(); continue; }\n      var element = document.createElement('script');\n      element.onload = on_load;\n      element.onerror = on_error;\n      element.async = false;\n      element.src = url;\n      console.debug(\"Bokeh: injecting script tag for BokehJS library: \", url);\n      document.head.appendChild(element);\n    }\n    for (var i = 0; i < js_modules.length; i++) {\n      var url = js_modules[i];\n      if (skip.indexOf(url) >= 0) { on_load(); continue; }\n      var element = document.createElement('script');\n      element.onload = on_load;\n      element.onerror = on_error;\n      element.async = false;\n      element.src = url;\n      element.type = \"module\";\n      console.debug(\"Bokeh: injecting script tag for BokehJS library: \", url);\n      document.head.appendChild(element);\n    }\n    if (!js_urls.length && !js_modules.length) {\n      on_load()\n    }\n  };\n\n  function inject_raw_css(css) {\n    const element = document.createElement(\"style\");\n    element.appendChild(document.createTextNode(css));\n    document.body.appendChild(element);\n  }\n\n  var js_urls = [\"https://unpkg.com/tabulator-tables@4.9.3/dist/js/tabulator.js\", \"https://unpkg.com/moment@2.27.0/moment.js\", \"https://cdn.bokeh.org/bokeh/release/bokeh-2.3.2.min.js\", \"https://cdn.bokeh.org/bokeh/release/bokeh-widgets-2.3.2.min.js\", \"https://cdn.bokeh.org/bokeh/release/bokeh-tables-2.3.2.min.js\", \"https://unpkg.com/@holoviz/panel@^0.11.3/dist/panel.min.js\"];\n  var js_modules = [];\n  var css_urls = [\"https://unpkg.com/tabulator-tables@4.9.3/dist/css/tabulator_simple.min.css\", \"https://unpkg.com/@holoviz/panel@0.11.3/dist/css/alerts.css\", \"https://unpkg.com/@holoviz/panel@0.11.3/dist/css/card.css\", \"https://unpkg.com/@holoviz/panel@0.11.3/dist/css/dataframe.css\", \"https://unpkg.com/@holoviz/panel@0.11.3/dist/css/json.css\", \"https://unpkg.com/@holoviz/panel@0.11.3/dist/css/loading.css\", \"https://unpkg.com/@holoviz/panel@0.11.3/dist/css/markdown.css\", \"https://unpkg.com/@holoviz/panel@0.11.3/dist/css/widgets.css\"];\n  var inline_js = [\n    function(Bokeh) {\n      inject_raw_css(\"\\n    .bk.pn-loading.arcs:before {\\n      background-image: url(\\\"data:image/svg+xml;base64,PHN2ZyB4bWxucz0iaHR0cDovL3d3dy53My5vcmcvMjAwMC9zdmciIHhtbG5zOnhsaW5rPSJodHRwOi8vd3d3LnczLm9yZy8xOTk5L3hsaW5rIiBzdHlsZT0ibWFyZ2luOiBhdXRvOyBiYWNrZ3JvdW5kOiBub25lOyBkaXNwbGF5OiBibG9jazsgc2hhcGUtcmVuZGVyaW5nOiBhdXRvOyIgdmlld0JveD0iMCAwIDEwMCAxMDAiIHByZXNlcnZlQXNwZWN0UmF0aW89InhNaWRZTWlkIj4gIDxjaXJjbGUgY3g9IjUwIiBjeT0iNTAiIHI9IjMyIiBzdHJva2Utd2lkdGg9IjgiIHN0cm9rZT0iI2MzYzNjMyIgc3Ryb2tlLWRhc2hhcnJheT0iNTAuMjY1NDgyNDU3NDM2NjkgNTAuMjY1NDgyNDU3NDM2NjkiIGZpbGw9Im5vbmUiIHN0cm9rZS1saW5lY2FwPSJyb3VuZCI+ICAgIDxhbmltYXRlVHJhbnNmb3JtIGF0dHJpYnV0ZU5hbWU9InRyYW5zZm9ybSIgdHlwZT0icm90YXRlIiByZXBlYXRDb3VudD0iaW5kZWZpbml0ZSIgZHVyPSIxcyIga2V5VGltZXM9IjA7MSIgdmFsdWVzPSIwIDUwIDUwOzM2MCA1MCA1MCI+PC9hbmltYXRlVHJhbnNmb3JtPiAgPC9jaXJjbGU+PC9zdmc+\\\")\\n    }\\n    \");\n    },\n    function(Bokeh) {\n      Bokeh.set_log_level(\"info\");\n    },\n    function(Bokeh) {} // ensure no trailing comma for IE\n  ];\n\n  function run_inline_js() {\n    if ((root.Bokeh !== undefined) || (force === true)) {\n      for (var i = 0; i < inline_js.length; i++) {\n        inline_js[i].call(root, root.Bokeh);\n      }} else if (Date.now() < root._bokeh_timeout) {\n      setTimeout(run_inline_js, 100);\n    } else if (!root._bokeh_failed_load) {\n      console.log(\"Bokeh: BokehJS failed to load within specified timeout.\");\n      root._bokeh_failed_load = true;\n    }\n  }\n\n  if (root._bokeh_is_loading === 0) {\n    console.debug(\"Bokeh: BokehJS loaded, going straight to plotting\");\n    run_inline_js();\n  } else {\n    load_libs(css_urls, js_urls, js_modules, function() {\n      console.debug(\"Bokeh: BokehJS plotting callback run at\", now());\n      run_inline_js();\n    });\n  }\n}(window));"
     },
     "metadata": {},
     "output_type": "display_data"
    },
    {
     "data": {
      "application/javascript": [
       "\n",
       "if ((window.PyViz === undefined) || (window.PyViz instanceof HTMLElement)) {\n",
       "  window.PyViz = {comms: {}, comm_status:{}, kernels:{}, receivers: {}, plot_index: []}\n",
       "}\n",
       "\n",
       "\n",
       "    function JupyterCommManager() {\n",
       "    }\n",
       "\n",
       "    JupyterCommManager.prototype.register_target = function(plot_id, comm_id, msg_handler) {\n",
       "      if (window.comm_manager || ((window.Jupyter !== undefined) && (Jupyter.notebook.kernel != null))) {\n",
       "        var comm_manager = window.comm_manager || Jupyter.notebook.kernel.comm_manager;\n",
       "        comm_manager.register_target(comm_id, function(comm) {\n",
       "          comm.on_msg(msg_handler);\n",
       "        });\n",
       "      } else if ((plot_id in window.PyViz.kernels) && (window.PyViz.kernels[plot_id])) {\n",
       "        window.PyViz.kernels[plot_id].registerCommTarget(comm_id, function(comm) {\n",
       "          comm.onMsg = msg_handler;\n",
       "        });\n",
       "      } else if (typeof google != 'undefined' && google.colab.kernel != null) {\n",
       "        google.colab.kernel.comms.registerTarget(comm_id, (comm) => {\n",
       "          var messages = comm.messages[Symbol.asyncIterator]();\n",
       "          function processIteratorResult(result) {\n",
       "            var message = result.value;\n",
       "            console.log(message)\n",
       "            var content = {data: message.data, comm_id};\n",
       "            var buffers = []\n",
       "            for (var buffer of message.buffers || []) {\n",
       "              buffers.push(new DataView(buffer))\n",
       "            }\n",
       "            var metadata = message.metadata || {};\n",
       "            var msg = {content, buffers, metadata}\n",
       "            msg_handler(msg);\n",
       "            return messages.next().then(processIteratorResult);\n",
       "          }\n",
       "          return messages.next().then(processIteratorResult);\n",
       "        })\n",
       "      }\n",
       "    }\n",
       "\n",
       "    JupyterCommManager.prototype.get_client_comm = function(plot_id, comm_id, msg_handler) {\n",
       "      if (comm_id in window.PyViz.comms) {\n",
       "        return window.PyViz.comms[comm_id];\n",
       "      } else if (window.comm_manager || ((window.Jupyter !== undefined) && (Jupyter.notebook.kernel != null))) {\n",
       "        var comm_manager = window.comm_manager || Jupyter.notebook.kernel.comm_manager;\n",
       "        var comm = comm_manager.new_comm(comm_id, {}, {}, {}, comm_id);\n",
       "        if (msg_handler) {\n",
       "          comm.on_msg(msg_handler);\n",
       "        }\n",
       "      } else if ((plot_id in window.PyViz.kernels) && (window.PyViz.kernels[plot_id])) {\n",
       "        var comm = window.PyViz.kernels[plot_id].connectToComm(comm_id);\n",
       "        comm.open();\n",
       "        if (msg_handler) {\n",
       "          comm.onMsg = msg_handler;\n",
       "        }\n",
       "      } else if (typeof google != 'undefined' && google.colab.kernel != null) {\n",
       "        var comm_promise = google.colab.kernel.comms.open(comm_id)\n",
       "        comm_promise.then((comm) => {\n",
       "          window.PyViz.comms[comm_id] = comm;\n",
       "          if (msg_handler) {\n",
       "            var messages = comm.messages[Symbol.asyncIterator]();\n",
       "            function processIteratorResult(result) {\n",
       "              var message = result.value;\n",
       "              var content = {data: message.data};\n",
       "              var metadata = message.metadata || {comm_id};\n",
       "              var msg = {content, metadata}\n",
       "              msg_handler(msg);\n",
       "              return messages.next().then(processIteratorResult);\n",
       "            }\n",
       "            return messages.next().then(processIteratorResult);\n",
       "          }\n",
       "        }) \n",
       "        var sendClosure = (data, metadata, buffers, disposeOnDone) => {\n",
       "          return comm_promise.then((comm) => {\n",
       "            comm.send(data, metadata, buffers, disposeOnDone);\n",
       "          });\n",
       "        };\n",
       "        var comm = {\n",
       "          send: sendClosure\n",
       "        };\n",
       "      }\n",
       "      window.PyViz.comms[comm_id] = comm;\n",
       "      return comm;\n",
       "    }\n",
       "    window.PyViz.comm_manager = new JupyterCommManager();\n",
       "    \n",
       "\n",
       "\n",
       "var JS_MIME_TYPE = 'application/javascript';\n",
       "var HTML_MIME_TYPE = 'text/html';\n",
       "var EXEC_MIME_TYPE = 'application/vnd.holoviews_exec.v0+json';\n",
       "var CLASS_NAME = 'output';\n",
       "\n",
       "/**\n",
       " * Render data to the DOM node\n",
       " */\n",
       "function render(props, node) {\n",
       "  var div = document.createElement(\"div\");\n",
       "  var script = document.createElement(\"script\");\n",
       "  node.appendChild(div);\n",
       "  node.appendChild(script);\n",
       "}\n",
       "\n",
       "/**\n",
       " * Handle when a new output is added\n",
       " */\n",
       "function handle_add_output(event, handle) {\n",
       "  var output_area = handle.output_area;\n",
       "  var output = handle.output;\n",
       "  if ((output.data == undefined) || (!output.data.hasOwnProperty(EXEC_MIME_TYPE))) {\n",
       "    return\n",
       "  }\n",
       "  var id = output.metadata[EXEC_MIME_TYPE][\"id\"];\n",
       "  var toinsert = output_area.element.find(\".\" + CLASS_NAME.split(' ')[0]);\n",
       "  if (id !== undefined) {\n",
       "    var nchildren = toinsert.length;\n",
       "    var html_node = toinsert[nchildren-1].children[0];\n",
       "    html_node.innerHTML = output.data[HTML_MIME_TYPE];\n",
       "    var scripts = [];\n",
       "    var nodelist = html_node.querySelectorAll(\"script\");\n",
       "    for (var i in nodelist) {\n",
       "      if (nodelist.hasOwnProperty(i)) {\n",
       "        scripts.push(nodelist[i])\n",
       "      }\n",
       "    }\n",
       "\n",
       "    scripts.forEach( function (oldScript) {\n",
       "      var newScript = document.createElement(\"script\");\n",
       "      var attrs = [];\n",
       "      var nodemap = oldScript.attributes;\n",
       "      for (var j in nodemap) {\n",
       "        if (nodemap.hasOwnProperty(j)) {\n",
       "          attrs.push(nodemap[j])\n",
       "        }\n",
       "      }\n",
       "      attrs.forEach(function(attr) { newScript.setAttribute(attr.name, attr.value) });\n",
       "      newScript.appendChild(document.createTextNode(oldScript.innerHTML));\n",
       "      oldScript.parentNode.replaceChild(newScript, oldScript);\n",
       "    });\n",
       "    if (JS_MIME_TYPE in output.data) {\n",
       "      toinsert[nchildren-1].children[1].textContent = output.data[JS_MIME_TYPE];\n",
       "    }\n",
       "    output_area._hv_plot_id = id;\n",
       "    if ((window.Bokeh !== undefined) && (id in Bokeh.index)) {\n",
       "      window.PyViz.plot_index[id] = Bokeh.index[id];\n",
       "    } else {\n",
       "      window.PyViz.plot_index[id] = null;\n",
       "    }\n",
       "  } else if (output.metadata[EXEC_MIME_TYPE][\"server_id\"] !== undefined) {\n",
       "    var bk_div = document.createElement(\"div\");\n",
       "    bk_div.innerHTML = output.data[HTML_MIME_TYPE];\n",
       "    var script_attrs = bk_div.children[0].attributes;\n",
       "    for (var i = 0; i < script_attrs.length; i++) {\n",
       "      toinsert[toinsert.length - 1].childNodes[1].setAttribute(script_attrs[i].name, script_attrs[i].value);\n",
       "    }\n",
       "    // store reference to server id on output_area\n",
       "    output_area._bokeh_server_id = output.metadata[EXEC_MIME_TYPE][\"server_id\"];\n",
       "  }\n",
       "}\n",
       "\n",
       "/**\n",
       " * Handle when an output is cleared or removed\n",
       " */\n",
       "function handle_clear_output(event, handle) {\n",
       "  var id = handle.cell.output_area._hv_plot_id;\n",
       "  var server_id = handle.cell.output_area._bokeh_server_id;\n",
       "  if (((id === undefined) || !(id in PyViz.plot_index)) && (server_id !== undefined)) { return; }\n",
       "  var comm = window.PyViz.comm_manager.get_client_comm(\"hv-extension-comm\", \"hv-extension-comm\", function () {});\n",
       "  if (server_id !== null) {\n",
       "    comm.send({event_type: 'server_delete', 'id': server_id});\n",
       "    return;\n",
       "  } else if (comm !== null) {\n",
       "    comm.send({event_type: 'delete', 'id': id});\n",
       "  }\n",
       "  delete PyViz.plot_index[id];\n",
       "  if ((window.Bokeh !== undefined) & (id in window.Bokeh.index)) {\n",
       "    var doc = window.Bokeh.index[id].model.document\n",
       "    doc.clear();\n",
       "    const i = window.Bokeh.documents.indexOf(doc);\n",
       "    if (i > -1) {\n",
       "      window.Bokeh.documents.splice(i, 1);\n",
       "    }\n",
       "  }\n",
       "}\n",
       "\n",
       "/**\n",
       " * Handle kernel restart event\n",
       " */\n",
       "function handle_kernel_cleanup(event, handle) {\n",
       "  delete PyViz.comms[\"hv-extension-comm\"];\n",
       "  window.PyViz.plot_index = {}\n",
       "}\n",
       "\n",
       "/**\n",
       " * Handle update_display_data messages\n",
       " */\n",
       "function handle_update_output(event, handle) {\n",
       "  handle_clear_output(event, {cell: {output_area: handle.output_area}})\n",
       "  handle_add_output(event, handle)\n",
       "}\n",
       "\n",
       "function register_renderer(events, OutputArea) {\n",
       "  function append_mime(data, metadata, element) {\n",
       "    // create a DOM node to render to\n",
       "    var toinsert = this.create_output_subarea(\n",
       "    metadata,\n",
       "    CLASS_NAME,\n",
       "    EXEC_MIME_TYPE\n",
       "    );\n",
       "    this.keyboard_manager.register_events(toinsert);\n",
       "    // Render to node\n",
       "    var props = {data: data, metadata: metadata[EXEC_MIME_TYPE]};\n",
       "    render(props, toinsert[0]);\n",
       "    element.append(toinsert);\n",
       "    return toinsert\n",
       "  }\n",
       "\n",
       "  events.on('output_added.OutputArea', handle_add_output);\n",
       "  events.on('output_updated.OutputArea', handle_update_output);\n",
       "  events.on('clear_output.CodeCell', handle_clear_output);\n",
       "  events.on('delete.Cell', handle_clear_output);\n",
       "  events.on('kernel_ready.Kernel', handle_kernel_cleanup);\n",
       "\n",
       "  OutputArea.prototype.register_mime_type(EXEC_MIME_TYPE, append_mime, {\n",
       "    safe: true,\n",
       "    index: 0\n",
       "  });\n",
       "}\n",
       "\n",
       "if (window.Jupyter !== undefined) {\n",
       "  try {\n",
       "    var events = require('base/js/events');\n",
       "    var OutputArea = require('notebook/js/outputarea').OutputArea;\n",
       "    if (OutputArea.prototype.mime_types().indexOf(EXEC_MIME_TYPE) == -1) {\n",
       "      register_renderer(events, OutputArea);\n",
       "    }\n",
       "  } catch(err) {\n",
       "  }\n",
       "}\n"
      ],
      "application/vnd.holoviews_load.v0+json": "\nif ((window.PyViz === undefined) || (window.PyViz instanceof HTMLElement)) {\n  window.PyViz = {comms: {}, comm_status:{}, kernels:{}, receivers: {}, plot_index: []}\n}\n\n\n    function JupyterCommManager() {\n    }\n\n    JupyterCommManager.prototype.register_target = function(plot_id, comm_id, msg_handler) {\n      if (window.comm_manager || ((window.Jupyter !== undefined) && (Jupyter.notebook.kernel != null))) {\n        var comm_manager = window.comm_manager || Jupyter.notebook.kernel.comm_manager;\n        comm_manager.register_target(comm_id, function(comm) {\n          comm.on_msg(msg_handler);\n        });\n      } else if ((plot_id in window.PyViz.kernels) && (window.PyViz.kernels[plot_id])) {\n        window.PyViz.kernels[plot_id].registerCommTarget(comm_id, function(comm) {\n          comm.onMsg = msg_handler;\n        });\n      } else if (typeof google != 'undefined' && google.colab.kernel != null) {\n        google.colab.kernel.comms.registerTarget(comm_id, (comm) => {\n          var messages = comm.messages[Symbol.asyncIterator]();\n          function processIteratorResult(result) {\n            var message = result.value;\n            console.log(message)\n            var content = {data: message.data, comm_id};\n            var buffers = []\n            for (var buffer of message.buffers || []) {\n              buffers.push(new DataView(buffer))\n            }\n            var metadata = message.metadata || {};\n            var msg = {content, buffers, metadata}\n            msg_handler(msg);\n            return messages.next().then(processIteratorResult);\n          }\n          return messages.next().then(processIteratorResult);\n        })\n      }\n    }\n\n    JupyterCommManager.prototype.get_client_comm = function(plot_id, comm_id, msg_handler) {\n      if (comm_id in window.PyViz.comms) {\n        return window.PyViz.comms[comm_id];\n      } else if (window.comm_manager || ((window.Jupyter !== undefined) && (Jupyter.notebook.kernel != null))) {\n        var comm_manager = window.comm_manager || Jupyter.notebook.kernel.comm_manager;\n        var comm = comm_manager.new_comm(comm_id, {}, {}, {}, comm_id);\n        if (msg_handler) {\n          comm.on_msg(msg_handler);\n        }\n      } else if ((plot_id in window.PyViz.kernels) && (window.PyViz.kernels[plot_id])) {\n        var comm = window.PyViz.kernels[plot_id].connectToComm(comm_id);\n        comm.open();\n        if (msg_handler) {\n          comm.onMsg = msg_handler;\n        }\n      } else if (typeof google != 'undefined' && google.colab.kernel != null) {\n        var comm_promise = google.colab.kernel.comms.open(comm_id)\n        comm_promise.then((comm) => {\n          window.PyViz.comms[comm_id] = comm;\n          if (msg_handler) {\n            var messages = comm.messages[Symbol.asyncIterator]();\n            function processIteratorResult(result) {\n              var message = result.value;\n              var content = {data: message.data};\n              var metadata = message.metadata || {comm_id};\n              var msg = {content, metadata}\n              msg_handler(msg);\n              return messages.next().then(processIteratorResult);\n            }\n            return messages.next().then(processIteratorResult);\n          }\n        }) \n        var sendClosure = (data, metadata, buffers, disposeOnDone) => {\n          return comm_promise.then((comm) => {\n            comm.send(data, metadata, buffers, disposeOnDone);\n          });\n        };\n        var comm = {\n          send: sendClosure\n        };\n      }\n      window.PyViz.comms[comm_id] = comm;\n      return comm;\n    }\n    window.PyViz.comm_manager = new JupyterCommManager();\n    \n\n\nvar JS_MIME_TYPE = 'application/javascript';\nvar HTML_MIME_TYPE = 'text/html';\nvar EXEC_MIME_TYPE = 'application/vnd.holoviews_exec.v0+json';\nvar CLASS_NAME = 'output';\n\n/**\n * Render data to the DOM node\n */\nfunction render(props, node) {\n  var div = document.createElement(\"div\");\n  var script = document.createElement(\"script\");\n  node.appendChild(div);\n  node.appendChild(script);\n}\n\n/**\n * Handle when a new output is added\n */\nfunction handle_add_output(event, handle) {\n  var output_area = handle.output_area;\n  var output = handle.output;\n  if ((output.data == undefined) || (!output.data.hasOwnProperty(EXEC_MIME_TYPE))) {\n    return\n  }\n  var id = output.metadata[EXEC_MIME_TYPE][\"id\"];\n  var toinsert = output_area.element.find(\".\" + CLASS_NAME.split(' ')[0]);\n  if (id !== undefined) {\n    var nchildren = toinsert.length;\n    var html_node = toinsert[nchildren-1].children[0];\n    html_node.innerHTML = output.data[HTML_MIME_TYPE];\n    var scripts = [];\n    var nodelist = html_node.querySelectorAll(\"script\");\n    for (var i in nodelist) {\n      if (nodelist.hasOwnProperty(i)) {\n        scripts.push(nodelist[i])\n      }\n    }\n\n    scripts.forEach( function (oldScript) {\n      var newScript = document.createElement(\"script\");\n      var attrs = [];\n      var nodemap = oldScript.attributes;\n      for (var j in nodemap) {\n        if (nodemap.hasOwnProperty(j)) {\n          attrs.push(nodemap[j])\n        }\n      }\n      attrs.forEach(function(attr) { newScript.setAttribute(attr.name, attr.value) });\n      newScript.appendChild(document.createTextNode(oldScript.innerHTML));\n      oldScript.parentNode.replaceChild(newScript, oldScript);\n    });\n    if (JS_MIME_TYPE in output.data) {\n      toinsert[nchildren-1].children[1].textContent = output.data[JS_MIME_TYPE];\n    }\n    output_area._hv_plot_id = id;\n    if ((window.Bokeh !== undefined) && (id in Bokeh.index)) {\n      window.PyViz.plot_index[id] = Bokeh.index[id];\n    } else {\n      window.PyViz.plot_index[id] = null;\n    }\n  } else if (output.metadata[EXEC_MIME_TYPE][\"server_id\"] !== undefined) {\n    var bk_div = document.createElement(\"div\");\n    bk_div.innerHTML = output.data[HTML_MIME_TYPE];\n    var script_attrs = bk_div.children[0].attributes;\n    for (var i = 0; i < script_attrs.length; i++) {\n      toinsert[toinsert.length - 1].childNodes[1].setAttribute(script_attrs[i].name, script_attrs[i].value);\n    }\n    // store reference to server id on output_area\n    output_area._bokeh_server_id = output.metadata[EXEC_MIME_TYPE][\"server_id\"];\n  }\n}\n\n/**\n * Handle when an output is cleared or removed\n */\nfunction handle_clear_output(event, handle) {\n  var id = handle.cell.output_area._hv_plot_id;\n  var server_id = handle.cell.output_area._bokeh_server_id;\n  if (((id === undefined) || !(id in PyViz.plot_index)) && (server_id !== undefined)) { return; }\n  var comm = window.PyViz.comm_manager.get_client_comm(\"hv-extension-comm\", \"hv-extension-comm\", function () {});\n  if (server_id !== null) {\n    comm.send({event_type: 'server_delete', 'id': server_id});\n    return;\n  } else if (comm !== null) {\n    comm.send({event_type: 'delete', 'id': id});\n  }\n  delete PyViz.plot_index[id];\n  if ((window.Bokeh !== undefined) & (id in window.Bokeh.index)) {\n    var doc = window.Bokeh.index[id].model.document\n    doc.clear();\n    const i = window.Bokeh.documents.indexOf(doc);\n    if (i > -1) {\n      window.Bokeh.documents.splice(i, 1);\n    }\n  }\n}\n\n/**\n * Handle kernel restart event\n */\nfunction handle_kernel_cleanup(event, handle) {\n  delete PyViz.comms[\"hv-extension-comm\"];\n  window.PyViz.plot_index = {}\n}\n\n/**\n * Handle update_display_data messages\n */\nfunction handle_update_output(event, handle) {\n  handle_clear_output(event, {cell: {output_area: handle.output_area}})\n  handle_add_output(event, handle)\n}\n\nfunction register_renderer(events, OutputArea) {\n  function append_mime(data, metadata, element) {\n    // create a DOM node to render to\n    var toinsert = this.create_output_subarea(\n    metadata,\n    CLASS_NAME,\n    EXEC_MIME_TYPE\n    );\n    this.keyboard_manager.register_events(toinsert);\n    // Render to node\n    var props = {data: data, metadata: metadata[EXEC_MIME_TYPE]};\n    render(props, toinsert[0]);\n    element.append(toinsert);\n    return toinsert\n  }\n\n  events.on('output_added.OutputArea', handle_add_output);\n  events.on('output_updated.OutputArea', handle_update_output);\n  events.on('clear_output.CodeCell', handle_clear_output);\n  events.on('delete.Cell', handle_clear_output);\n  events.on('kernel_ready.Kernel', handle_kernel_cleanup);\n\n  OutputArea.prototype.register_mime_type(EXEC_MIME_TYPE, append_mime, {\n    safe: true,\n    index: 0\n  });\n}\n\nif (window.Jupyter !== undefined) {\n  try {\n    var events = require('base/js/events');\n    var OutputArea = require('notebook/js/outputarea').OutputArea;\n    if (OutputArea.prototype.mime_types().indexOf(EXEC_MIME_TYPE) == -1) {\n      register_renderer(events, OutputArea);\n    }\n  } catch(err) {\n  }\n}\n"
     },
     "metadata": {},
     "output_type": "display_data"
    }
   ],
   "source": [
    "import panel as pn\n",
    "pn.extension()\n",
    "import pandas as pd\n",
    "import numpy as np\n",
    "#import hvplot.pandas\n",
    "import param, random\n",
    "import datetime as dt\n",
    "\n",
    "import matplotlib.pyplot as plt\n",
    "\n",
    "%matplotlib inline"
   ]
  },
  {
   "cell_type": "code",
   "execution_count": 2,
   "metadata": {
    "id": "fDqxqSBPZsh0"
   },
   "outputs": [],
   "source": [
    "periods = [\n",
    "    \"#17 May 7\",\n",
    "    \"#16 Apr 24\",\n",
    "    \"#15 Apr 9\",\n",
    "    \"#14 Mar 26\",\n",
    "    \"#13 Mar 12\",\n",
    "    \"#12 Feb 26\",\n",
    "    \"#11 Feb 12\",\n",
    "    \"#10 Jan 29\",\n",
    "    \"#9 Jan 15\", \n",
    "    \"#8 Jan 1\",\n",
    "    \"#7 Dec 18\",\n",
    "    \"#6 Dec 4\",\n",
    "    \"#5 Nov 20\", #\n",
    "    \"#4 Nov 6\", #\n",
    "    \"#3 Oct 23\", #\n",
    "    \"#2 Oct 9\",\n",
    "    \"#1 Sept 24\", #\n",
    "    \"#0 Sept 7 (historic)\", #\n",
    "]"
   ]
  },
  {
   "cell_type": "code",
   "execution_count": 3,
   "metadata": {
    "colab": {
     "base_uri": "https://localhost:8080/",
     "height": 391
    },
    "id": "4SWM8yPdZsh1",
    "outputId": "ad3f02ad-59ba-4903-eca8-9fb997587d6d"
   },
   "outputs": [],
   "source": [
    "data = []\n",
    "for i, period in enumerate(periods):\n",
    "    \n",
    "    if i not in (17, 16, 14, 12, 13):\n",
    "    \n",
    "        df = pd.read_excel('data/TEC Praise Quantification.xlsx', skiprows=2, sheet_name=period,engine='openpyxl', usecols=\"A:M\")\n",
    "\n",
    "        df[['v1','v2','v3']] = list(df.columns[6:9])\n",
    "\n",
    "        df.columns = list(df.columns[:6]) + ['v1 norm', 'v2 norm', 'v3 norm'] + list(df.columns[9:])\n",
    "\n",
    "        df['period'] = period\n",
    "\n",
    "        df = df.dropna(thresh=8)\n",
    "\n",
    "        data.append(df)"
   ]
  },
  {
   "cell_type": "code",
   "execution_count": 4,
   "metadata": {
    "id": "2uSVSXdAZsh3"
   },
   "outputs": [],
   "source": [
    "combined_data = pd.concat(data)"
   ]
  },
  {
   "cell_type": "code",
   "execution_count": 5,
   "metadata": {
    "id": "K2buxaUGZsh4"
   },
   "outputs": [
    {
     "data": {
      "text/html": [
       "<div>\n",
       "<style scoped>\n",
       "    .dataframe tbody tr th:only-of-type {\n",
       "        vertical-align: middle;\n",
       "    }\n",
       "\n",
       "    .dataframe tbody tr th {\n",
       "        vertical-align: top;\n",
       "    }\n",
       "\n",
       "    .dataframe thead th {\n",
       "        text-align: right;\n",
       "    }\n",
       "</style>\n",
       "<table border=\"1\" class=\"dataframe\">\n",
       "  <thead>\n",
       "    <tr style=\"text-align: right;\">\n",
       "      <th></th>\n",
       "      <th>To</th>\n",
       "      <th>From</th>\n",
       "      <th>Reason for dishing</th>\n",
       "      <th>Unnamed: 3</th>\n",
       "      <th>Date</th>\n",
       "      <th>Room</th>\n",
       "      <th>v1 norm</th>\n",
       "      <th>v2 norm</th>\n",
       "      <th>v3 norm</th>\n",
       "      <th>Avg %</th>\n",
       "      <th>IH per Praise</th>\n",
       "      <th>IH per person</th>\n",
       "      <th>Unnamed: 12</th>\n",
       "      <th>v1</th>\n",
       "      <th>v2</th>\n",
       "      <th>v3</th>\n",
       "      <th>period</th>\n",
       "      <th>Cred per Praise</th>\n",
       "      <th>Cred per person</th>\n",
       "      <th>To.1</th>\n",
       "    </tr>\n",
       "  </thead>\n",
       "  <tbody>\n",
       "    <tr>\n",
       "      <th>0</th>\n",
       "      <td>zeptimusQ</td>\n",
       "      <td>Tam2140#9361</td>\n",
       "      <td>for hosting this kicking params party!</td>\n",
       "      <td>Token Engineering Commons</td>\n",
       "      <td>May-07-2021</td>\n",
       "      <td>🙏praise</td>\n",
       "      <td>10000.0</td>\n",
       "      <td>100.0</td>\n",
       "      <td>200.0</td>\n",
       "      <td>0.001963</td>\n",
       "      <td>2.355252</td>\n",
       "      <td>39.04072</td>\n",
       "      <td>zeptimusQ</td>\n",
       "      <td>Metaverde</td>\n",
       "      <td>Juank</td>\n",
       "      <td>Edu</td>\n",
       "      <td>#17 May 7</td>\n",
       "      <td>NaN</td>\n",
       "      <td>NaN</td>\n",
       "      <td>NaN</td>\n",
       "    </tr>\n",
       "    <tr>\n",
       "      <th>1</th>\n",
       "      <td>zeptimusQ</td>\n",
       "      <td>iviangita#3204</td>\n",
       "      <td>for hosting and leading a lot of params parties</td>\n",
       "      <td>Token Engineering Commons</td>\n",
       "      <td>May-07-2021</td>\n",
       "      <td>🙏praise</td>\n",
       "      <td>10000.0</td>\n",
       "      <td>100.0</td>\n",
       "      <td>100.0</td>\n",
       "      <td>0.001663</td>\n",
       "      <td>1.995539</td>\n",
       "      <td>39.04072</td>\n",
       "      <td>zeptimusQ</td>\n",
       "      <td>Metaverde</td>\n",
       "      <td>Juank</td>\n",
       "      <td>Edu</td>\n",
       "      <td>#17 May 7</td>\n",
       "      <td>NaN</td>\n",
       "      <td>NaN</td>\n",
       "      <td>NaN</td>\n",
       "    </tr>\n",
       "    <tr>\n",
       "      <th>2</th>\n",
       "      <td>zeptimusQ</td>\n",
       "      <td>Juankbell#7458</td>\n",
       "      <td>for testing and deploying the bot to record an...</td>\n",
       "      <td>Token Engineering Commons</td>\n",
       "      <td>Apr-28-2021</td>\n",
       "      <td>🙏praise</td>\n",
       "      <td>1000.0</td>\n",
       "      <td>200.0</td>\n",
       "      <td>200.0</td>\n",
       "      <td>0.001342</td>\n",
       "      <td>1.610872</td>\n",
       "      <td>39.04072</td>\n",
       "      <td>zeptimusQ</td>\n",
       "      <td>Metaverde</td>\n",
       "      <td>Juank</td>\n",
       "      <td>Edu</td>\n",
       "      <td>#17 May 7</td>\n",
       "      <td>NaN</td>\n",
       "      <td>NaN</td>\n",
       "      <td>NaN</td>\n",
       "    </tr>\n",
       "    <tr>\n",
       "      <th>3</th>\n",
       "      <td>zeptimusQ</td>\n",
       "      <td>iviangita#3204</td>\n",
       "      <td>for the huge success of the MVV process</td>\n",
       "      <td>Token Engineering Commons</td>\n",
       "      <td>Apr-30-2021</td>\n",
       "      <td>🙏praise</td>\n",
       "      <td>1000.0</td>\n",
       "      <td>200.0</td>\n",
       "      <td>100.0</td>\n",
       "      <td>0.001043</td>\n",
       "      <td>1.251160</td>\n",
       "      <td>39.04072</td>\n",
       "      <td>zeptimusQ</td>\n",
       "      <td>Metaverde</td>\n",
       "      <td>Juank</td>\n",
       "      <td>Edu</td>\n",
       "      <td>#17 May 7</td>\n",
       "      <td>NaN</td>\n",
       "      <td>NaN</td>\n",
       "      <td>NaN</td>\n",
       "    </tr>\n",
       "    <tr>\n",
       "      <th>4</th>\n",
       "      <td>zeptimusQ</td>\n",
       "      <td>iviangita#3204</td>\n",
       "      <td>for his awesome work on the recorder bot, for ...</td>\n",
       "      <td>Token Engineering Commons</td>\n",
       "      <td>Apr-30-2021</td>\n",
       "      <td>🙏praise</td>\n",
       "      <td>1000.0</td>\n",
       "      <td>200.0</td>\n",
       "      <td>100.0</td>\n",
       "      <td>0.001043</td>\n",
       "      <td>1.251160</td>\n",
       "      <td>39.04072</td>\n",
       "      <td>zeptimusQ</td>\n",
       "      <td>Metaverde</td>\n",
       "      <td>Juank</td>\n",
       "      <td>Edu</td>\n",
       "      <td>#17 May 7</td>\n",
       "      <td>NaN</td>\n",
       "      <td>NaN</td>\n",
       "      <td>NaN</td>\n",
       "    </tr>\n",
       "    <tr>\n",
       "      <th>...</th>\n",
       "      <td>...</td>\n",
       "      <td>...</td>\n",
       "      <td>...</td>\n",
       "      <td>...</td>\n",
       "      <td>...</td>\n",
       "      <td>...</td>\n",
       "      <td>...</td>\n",
       "      <td>...</td>\n",
       "      <td>...</td>\n",
       "      <td>...</td>\n",
       "      <td>...</td>\n",
       "      <td>...</td>\n",
       "      <td>...</td>\n",
       "      <td>...</td>\n",
       "      <td>...</td>\n",
       "      <td>...</td>\n",
       "      <td>...</td>\n",
       "      <td>...</td>\n",
       "      <td>...</td>\n",
       "      <td>...</td>\n",
       "    </tr>\n",
       "    <tr>\n",
       "      <th>119</th>\n",
       "      <td>solsista</td>\n",
       "      <td>JessicaZartler</td>\n",
       "      <td>giving feedback on the TEC logo exercise - tha...</td>\n",
       "      <td>PRAISE</td>\n",
       "      <td>2020-09-29 00:00:00</td>\n",
       "      <td>TE Praise</td>\n",
       "      <td>1.0</td>\n",
       "      <td>10.0</td>\n",
       "      <td>30.0</td>\n",
       "      <td>0.005905</td>\n",
       "      <td>NaN</td>\n",
       "      <td>NaN</td>\n",
       "      <td>NaN</td>\n",
       "      <td>Tier</td>\n",
       "      <td>Griff</td>\n",
       "      <td>Livia</td>\n",
       "      <td>#2 Oct 9</td>\n",
       "      <td>0.915204</td>\n",
       "      <td>1.029059</td>\n",
       "      <td>solsista</td>\n",
       "    </tr>\n",
       "    <tr>\n",
       "      <th>120</th>\n",
       "      <td>solsista</td>\n",
       "      <td>krrisis</td>\n",
       "      <td>an interesting discussion on realigning incent...</td>\n",
       "      <td>PRAISE</td>\n",
       "      <td>2020-09-28 00:00:00</td>\n",
       "      <td>Commons Stack</td>\n",
       "      <td>3.0</td>\n",
       "      <td>1.0</td>\n",
       "      <td>4.0</td>\n",
       "      <td>0.000735</td>\n",
       "      <td>NaN</td>\n",
       "      <td>NaN</td>\n",
       "      <td>NaN</td>\n",
       "      <td>Tier</td>\n",
       "      <td>Griff</td>\n",
       "      <td>Livia</td>\n",
       "      <td>#2 Oct 9</td>\n",
       "      <td>0.113855</td>\n",
       "      <td>1.029059</td>\n",
       "      <td>solsista</td>\n",
       "    </tr>\n",
       "    <tr>\n",
       "      <th>121</th>\n",
       "      <td>sponnet2</td>\n",
       "      <td>GriffGreen</td>\n",
       "      <td>their INCREDIBLE progress on the CSTK token da...</td>\n",
       "      <td>PRAISE</td>\n",
       "      <td>2020-10-06 00:00:00</td>\n",
       "      <td>CS dDEV Team</td>\n",
       "      <td>3.0</td>\n",
       "      <td>5.0</td>\n",
       "      <td>10.0</td>\n",
       "      <td>0.002232</td>\n",
       "      <td>NaN</td>\n",
       "      <td>NaN</td>\n",
       "      <td>NaN</td>\n",
       "      <td>Tier</td>\n",
       "      <td>Griff</td>\n",
       "      <td>Livia</td>\n",
       "      <td>#2 Oct 9</td>\n",
       "      <td>0.345931</td>\n",
       "      <td>0.345931</td>\n",
       "      <td>sponnet2</td>\n",
       "    </tr>\n",
       "    <tr>\n",
       "      <th>122</th>\n",
       "      <td>tylerdmace</td>\n",
       "      <td>JessicaZartler</td>\n",
       "      <td>recording the cadCAD community call today - th...</td>\n",
       "      <td>PRAISE</td>\n",
       "      <td>2020-10-08 00:00:00</td>\n",
       "      <td>cadCAD_org</td>\n",
       "      <td>2.0</td>\n",
       "      <td>10.0</td>\n",
       "      <td>10.0</td>\n",
       "      <td>0.003023</td>\n",
       "      <td>NaN</td>\n",
       "      <td>NaN</td>\n",
       "      <td>NaN</td>\n",
       "      <td>Tier</td>\n",
       "      <td>Griff</td>\n",
       "      <td>Livia</td>\n",
       "      <td>#2 Oct 9</td>\n",
       "      <td>0.468519</td>\n",
       "      <td>0.468519</td>\n",
       "      <td>tylerdmace</td>\n",
       "    </tr>\n",
       "    <tr>\n",
       "      <th>123</th>\n",
       "      <td>willyogo</td>\n",
       "      <td>GriffGreen</td>\n",
       "      <td>taking on huge roles in Giveth and bringing st...</td>\n",
       "      <td>PRAISE</td>\n",
       "      <td>2020-10-01 00:00:00</td>\n",
       "      <td>Commons Stack</td>\n",
       "      <td>4.0</td>\n",
       "      <td>0.0</td>\n",
       "      <td>0.0</td>\n",
       "      <td>0.000000</td>\n",
       "      <td>NaN</td>\n",
       "      <td>NaN</td>\n",
       "      <td>NaN</td>\n",
       "      <td>Tier</td>\n",
       "      <td>Griff</td>\n",
       "      <td>Livia</td>\n",
       "      <td>#2 Oct 9</td>\n",
       "      <td>0.000000</td>\n",
       "      <td>0.000000</td>\n",
       "      <td>willyogo</td>\n",
       "    </tr>\n",
       "  </tbody>\n",
       "</table>\n",
       "<p>8071 rows × 20 columns</p>\n",
       "</div>"
      ],
      "text/plain": [
       "             To            From  \\\n",
       "0     zeptimusQ    Tam2140#9361   \n",
       "1     zeptimusQ  iviangita#3204   \n",
       "2     zeptimusQ  Juankbell#7458   \n",
       "3     zeptimusQ  iviangita#3204   \n",
       "4     zeptimusQ  iviangita#3204   \n",
       "..          ...             ...   \n",
       "119    solsista  JessicaZartler   \n",
       "120    solsista         krrisis   \n",
       "121    sponnet2      GriffGreen   \n",
       "122  tylerdmace  JessicaZartler   \n",
       "123    willyogo      GriffGreen   \n",
       "\n",
       "                                    Reason for dishing  \\\n",
       "0              for hosting this kicking params party!    \n",
       "1     for hosting and leading a lot of params parties    \n",
       "2    for testing and deploying the bot to record an...   \n",
       "3             for the huge success of the MVV process    \n",
       "4    for his awesome work on the recorder bot, for ...   \n",
       "..                                                 ...   \n",
       "119  giving feedback on the TEC logo exercise - tha...   \n",
       "120  an interesting discussion on realigning incent...   \n",
       "121  their INCREDIBLE progress on the CSTK token da...   \n",
       "122  recording the cadCAD community call today - th...   \n",
       "123  taking on huge roles in Giveth and bringing st...   \n",
       "\n",
       "                    Unnamed: 3                 Date           Room  v1 norm  \\\n",
       "0    Token Engineering Commons          May-07-2021        🙏praise  10000.0   \n",
       "1    Token Engineering Commons          May-07-2021        🙏praise  10000.0   \n",
       "2    Token Engineering Commons          Apr-28-2021        🙏praise   1000.0   \n",
       "3    Token Engineering Commons          Apr-30-2021        🙏praise   1000.0   \n",
       "4    Token Engineering Commons          Apr-30-2021        🙏praise   1000.0   \n",
       "..                         ...                  ...            ...      ...   \n",
       "119                     PRAISE  2020-09-29 00:00:00      TE Praise      1.0   \n",
       "120                     PRAISE  2020-09-28 00:00:00  Commons Stack      3.0   \n",
       "121                     PRAISE  2020-10-06 00:00:00   CS dDEV Team      3.0   \n",
       "122                     PRAISE  2020-10-08 00:00:00     cadCAD_org      2.0   \n",
       "123                     PRAISE  2020-10-01 00:00:00  Commons Stack      4.0   \n",
       "\n",
       "     v2 norm  v3 norm     Avg %  IH per Praise  IH per person Unnamed: 12  \\\n",
       "0      100.0    200.0  0.001963       2.355252       39.04072   zeptimusQ   \n",
       "1      100.0    100.0  0.001663       1.995539       39.04072   zeptimusQ   \n",
       "2      200.0    200.0  0.001342       1.610872       39.04072   zeptimusQ   \n",
       "3      200.0    100.0  0.001043       1.251160       39.04072   zeptimusQ   \n",
       "4      200.0    100.0  0.001043       1.251160       39.04072   zeptimusQ   \n",
       "..       ...      ...       ...            ...            ...         ...   \n",
       "119     10.0     30.0  0.005905            NaN            NaN         NaN   \n",
       "120      1.0      4.0  0.000735            NaN            NaN         NaN   \n",
       "121      5.0     10.0  0.002232            NaN            NaN         NaN   \n",
       "122     10.0     10.0  0.003023            NaN            NaN         NaN   \n",
       "123      0.0      0.0  0.000000            NaN            NaN         NaN   \n",
       "\n",
       "            v1     v2     v3     period  Cred per Praise  Cred per person  \\\n",
       "0    Metaverde  Juank    Edu  #17 May 7              NaN              NaN   \n",
       "1    Metaverde  Juank    Edu  #17 May 7              NaN              NaN   \n",
       "2    Metaverde  Juank    Edu  #17 May 7              NaN              NaN   \n",
       "3    Metaverde  Juank    Edu  #17 May 7              NaN              NaN   \n",
       "4    Metaverde  Juank    Edu  #17 May 7              NaN              NaN   \n",
       "..         ...    ...    ...        ...              ...              ...   \n",
       "119       Tier  Griff  Livia   #2 Oct 9         0.915204         1.029059   \n",
       "120       Tier  Griff  Livia   #2 Oct 9         0.113855         1.029059   \n",
       "121       Tier  Griff  Livia   #2 Oct 9         0.345931         0.345931   \n",
       "122       Tier  Griff  Livia   #2 Oct 9         0.468519         0.468519   \n",
       "123       Tier  Griff  Livia   #2 Oct 9         0.000000         0.000000   \n",
       "\n",
       "           To.1  \n",
       "0           NaN  \n",
       "1           NaN  \n",
       "2           NaN  \n",
       "3           NaN  \n",
       "4           NaN  \n",
       "..          ...  \n",
       "119    solsista  \n",
       "120    solsista  \n",
       "121    sponnet2  \n",
       "122  tylerdmace  \n",
       "123    willyogo  \n",
       "\n",
       "[8071 rows x 20 columns]"
      ]
     },
     "execution_count": 5,
     "metadata": {},
     "output_type": "execute_result"
    }
   ],
   "source": [
    "combined_data"
   ]
  },
  {
   "cell_type": "markdown",
   "metadata": {
    "id": "WI4N4XOdZsh5"
   },
   "source": [
    "quantifiers = combined_data[combined_data[['IH per Praise', 'IH per person', 'Unnamed: 12']].isna().all(axis=1)]\n",
    "quantifiers"
   ]
  },
  {
   "cell_type": "code",
   "execution_count": 6,
   "metadata": {
    "id": "JWnYx3seZsh6"
   },
   "outputs": [
    {
     "data": {
      "text/html": [
       "<div>\n",
       "<style scoped>\n",
       "    .dataframe tbody tr th:only-of-type {\n",
       "        vertical-align: middle;\n",
       "    }\n",
       "\n",
       "    .dataframe tbody tr th {\n",
       "        vertical-align: top;\n",
       "    }\n",
       "\n",
       "    .dataframe thead th {\n",
       "        text-align: right;\n",
       "    }\n",
       "</style>\n",
       "<table border=\"1\" class=\"dataframe\">\n",
       "  <thead>\n",
       "    <tr style=\"text-align: right;\">\n",
       "      <th></th>\n",
       "      <th>To</th>\n",
       "      <th>From</th>\n",
       "      <th>Reason for dishing</th>\n",
       "      <th>Unnamed: 3</th>\n",
       "      <th>Date</th>\n",
       "      <th>Room</th>\n",
       "      <th>v1 norm</th>\n",
       "      <th>v2 norm</th>\n",
       "      <th>v3 norm</th>\n",
       "      <th>Avg %</th>\n",
       "      <th>IH per Praise</th>\n",
       "      <th>IH per person</th>\n",
       "      <th>Unnamed: 12</th>\n",
       "      <th>v1</th>\n",
       "      <th>v2</th>\n",
       "      <th>v3</th>\n",
       "      <th>period</th>\n",
       "      <th>Cred per Praise</th>\n",
       "      <th>Cred per person</th>\n",
       "      <th>To.1</th>\n",
       "    </tr>\n",
       "  </thead>\n",
       "  <tbody>\n",
       "    <tr>\n",
       "      <th>0</th>\n",
       "      <td>zeptimusQ</td>\n",
       "      <td>Tam2140#9361</td>\n",
       "      <td>for hosting this kicking params party!</td>\n",
       "      <td>Token Engineering Commons</td>\n",
       "      <td>May-07-2021</td>\n",
       "      <td>🙏praise</td>\n",
       "      <td>10000.0</td>\n",
       "      <td>100.0</td>\n",
       "      <td>200.0</td>\n",
       "      <td>0.001963</td>\n",
       "      <td>2.355252</td>\n",
       "      <td>39.04072</td>\n",
       "      <td>zeptimusQ</td>\n",
       "      <td>Metaverde</td>\n",
       "      <td>Juank</td>\n",
       "      <td>Edu</td>\n",
       "      <td>#17 May 7</td>\n",
       "      <td>NaN</td>\n",
       "      <td>NaN</td>\n",
       "      <td>NaN</td>\n",
       "    </tr>\n",
       "    <tr>\n",
       "      <th>1</th>\n",
       "      <td>zeptimusQ</td>\n",
       "      <td>iviangita#3204</td>\n",
       "      <td>for hosting and leading a lot of params parties</td>\n",
       "      <td>Token Engineering Commons</td>\n",
       "      <td>May-07-2021</td>\n",
       "      <td>🙏praise</td>\n",
       "      <td>10000.0</td>\n",
       "      <td>100.0</td>\n",
       "      <td>100.0</td>\n",
       "      <td>0.001663</td>\n",
       "      <td>1.995539</td>\n",
       "      <td>39.04072</td>\n",
       "      <td>zeptimusQ</td>\n",
       "      <td>Metaverde</td>\n",
       "      <td>Juank</td>\n",
       "      <td>Edu</td>\n",
       "      <td>#17 May 7</td>\n",
       "      <td>NaN</td>\n",
       "      <td>NaN</td>\n",
       "      <td>NaN</td>\n",
       "    </tr>\n",
       "    <tr>\n",
       "      <th>2</th>\n",
       "      <td>zeptimusQ</td>\n",
       "      <td>Juankbell#7458</td>\n",
       "      <td>for testing and deploying the bot to record an...</td>\n",
       "      <td>Token Engineering Commons</td>\n",
       "      <td>Apr-28-2021</td>\n",
       "      <td>🙏praise</td>\n",
       "      <td>1000.0</td>\n",
       "      <td>200.0</td>\n",
       "      <td>200.0</td>\n",
       "      <td>0.001342</td>\n",
       "      <td>1.610872</td>\n",
       "      <td>39.04072</td>\n",
       "      <td>zeptimusQ</td>\n",
       "      <td>Metaverde</td>\n",
       "      <td>Juank</td>\n",
       "      <td>Edu</td>\n",
       "      <td>#17 May 7</td>\n",
       "      <td>NaN</td>\n",
       "      <td>NaN</td>\n",
       "      <td>NaN</td>\n",
       "    </tr>\n",
       "    <tr>\n",
       "      <th>3</th>\n",
       "      <td>zeptimusQ</td>\n",
       "      <td>iviangita#3204</td>\n",
       "      <td>for the huge success of the MVV process</td>\n",
       "      <td>Token Engineering Commons</td>\n",
       "      <td>Apr-30-2021</td>\n",
       "      <td>🙏praise</td>\n",
       "      <td>1000.0</td>\n",
       "      <td>200.0</td>\n",
       "      <td>100.0</td>\n",
       "      <td>0.001043</td>\n",
       "      <td>1.251160</td>\n",
       "      <td>39.04072</td>\n",
       "      <td>zeptimusQ</td>\n",
       "      <td>Metaverde</td>\n",
       "      <td>Juank</td>\n",
       "      <td>Edu</td>\n",
       "      <td>#17 May 7</td>\n",
       "      <td>NaN</td>\n",
       "      <td>NaN</td>\n",
       "      <td>NaN</td>\n",
       "    </tr>\n",
       "    <tr>\n",
       "      <th>4</th>\n",
       "      <td>zeptimusQ</td>\n",
       "      <td>iviangita#3204</td>\n",
       "      <td>for his awesome work on the recorder bot, for ...</td>\n",
       "      <td>Token Engineering Commons</td>\n",
       "      <td>Apr-30-2021</td>\n",
       "      <td>🙏praise</td>\n",
       "      <td>1000.0</td>\n",
       "      <td>200.0</td>\n",
       "      <td>100.0</td>\n",
       "      <td>0.001043</td>\n",
       "      <td>1.251160</td>\n",
       "      <td>39.04072</td>\n",
       "      <td>zeptimusQ</td>\n",
       "      <td>Metaverde</td>\n",
       "      <td>Juank</td>\n",
       "      <td>Edu</td>\n",
       "      <td>#17 May 7</td>\n",
       "      <td>NaN</td>\n",
       "      <td>NaN</td>\n",
       "      <td>NaN</td>\n",
       "    </tr>\n",
       "    <tr>\n",
       "      <th>...</th>\n",
       "      <td>...</td>\n",
       "      <td>...</td>\n",
       "      <td>...</td>\n",
       "      <td>...</td>\n",
       "      <td>...</td>\n",
       "      <td>...</td>\n",
       "      <td>...</td>\n",
       "      <td>...</td>\n",
       "      <td>...</td>\n",
       "      <td>...</td>\n",
       "      <td>...</td>\n",
       "      <td>...</td>\n",
       "      <td>...</td>\n",
       "      <td>...</td>\n",
       "      <td>...</td>\n",
       "      <td>...</td>\n",
       "      <td>...</td>\n",
       "      <td>...</td>\n",
       "      <td>...</td>\n",
       "      <td>...</td>\n",
       "    </tr>\n",
       "    <tr>\n",
       "      <th>505</th>\n",
       "      <td>atacas</td>\n",
       "      <td>Quantifiers</td>\n",
       "      <td>Gets paid by the Commons Stack so he only gets...</td>\n",
       "      <td>NaN</td>\n",
       "      <td>None</td>\n",
       "      <td>NaN</td>\n",
       "      <td>NaN</td>\n",
       "      <td>NaN</td>\n",
       "      <td>NaN</td>\n",
       "      <td>0.000000</td>\n",
       "      <td>NaN</td>\n",
       "      <td>NaN</td>\n",
       "      <td>atacas</td>\n",
       "      <td>Griff</td>\n",
       "      <td>Zep</td>\n",
       "      <td>Santi</td>\n",
       "      <td>#6 Dec 4</td>\n",
       "      <td>-5.494332</td>\n",
       "      <td>0.969588</td>\n",
       "      <td>NaN</td>\n",
       "    </tr>\n",
       "    <tr>\n",
       "      <th>506</th>\n",
       "      <td>luukweber</td>\n",
       "      <td>iviangita</td>\n",
       "      <td>participating in the Praisegiving Call 😀</td>\n",
       "      <td>PRAISE</td>\n",
       "      <td>2020-11-28 00:00:00</td>\n",
       "      <td>TE Praise</td>\n",
       "      <td>40.0</td>\n",
       "      <td>30.0</td>\n",
       "      <td>30.0</td>\n",
       "      <td>0.001180</td>\n",
       "      <td>NaN</td>\n",
       "      <td>NaN</td>\n",
       "      <td>luukweber</td>\n",
       "      <td>Griff</td>\n",
       "      <td>Zep</td>\n",
       "      <td>Santi</td>\n",
       "      <td>#6 Dec 4</td>\n",
       "      <td>0.924158</td>\n",
       "      <td>0.924158</td>\n",
       "      <td>NaN</td>\n",
       "    </tr>\n",
       "    <tr>\n",
       "      <th>507</th>\n",
       "      <td>krrisis</td>\n",
       "      <td>GriffGreen</td>\n",
       "      <td>sharing the gitcoin blog post... lots of great...</td>\n",
       "      <td>PRAISE</td>\n",
       "      <td>2020-12-02 00:00:00</td>\n",
       "      <td>Commons Stack</td>\n",
       "      <td>10.0</td>\n",
       "      <td>40.0</td>\n",
       "      <td>40.0</td>\n",
       "      <td>0.001103</td>\n",
       "      <td>NaN</td>\n",
       "      <td>NaN</td>\n",
       "      <td>krrisis</td>\n",
       "      <td>Griff</td>\n",
       "      <td>Zep</td>\n",
       "      <td>Santi</td>\n",
       "      <td>#6 Dec 4</td>\n",
       "      <td>0.863962</td>\n",
       "      <td>0.863962</td>\n",
       "      <td>NaN</td>\n",
       "    </tr>\n",
       "    <tr>\n",
       "      <th>508</th>\n",
       "      <td>sbilbao</td>\n",
       "      <td>JessicaZartler</td>\n",
       "      <td>joining the TE Praise channel and the TEC lab ...</td>\n",
       "      <td>PRAISE</td>\n",
       "      <td>2020-11-27 00:00:00</td>\n",
       "      <td>TE Praise</td>\n",
       "      <td>50.0</td>\n",
       "      <td>30.0</td>\n",
       "      <td>10.0</td>\n",
       "      <td>0.001005</td>\n",
       "      <td>NaN</td>\n",
       "      <td>NaN</td>\n",
       "      <td>sbilbao</td>\n",
       "      <td>Griff</td>\n",
       "      <td>Zep</td>\n",
       "      <td>Santi</td>\n",
       "      <td>#6 Dec 4</td>\n",
       "      <td>0.786973</td>\n",
       "      <td>0.786973</td>\n",
       "      <td>NaN</td>\n",
       "    </tr>\n",
       "    <tr>\n",
       "      <th>509</th>\n",
       "      <td>cryptononymouseconomist</td>\n",
       "      <td>JessicaZartler</td>\n",
       "      <td>joining the TE Praise channel and the TEC lab ...</td>\n",
       "      <td>PRAISE</td>\n",
       "      <td>2020-11-27 00:00:00</td>\n",
       "      <td>TE Praise</td>\n",
       "      <td>50.0</td>\n",
       "      <td>30.0</td>\n",
       "      <td>10.0</td>\n",
       "      <td>0.001005</td>\n",
       "      <td>NaN</td>\n",
       "      <td>NaN</td>\n",
       "      <td>cryptononymouseconomist</td>\n",
       "      <td>Griff</td>\n",
       "      <td>Zep</td>\n",
       "      <td>Santi</td>\n",
       "      <td>#6 Dec 4</td>\n",
       "      <td>0.786973</td>\n",
       "      <td>0.786973</td>\n",
       "      <td>NaN</td>\n",
       "    </tr>\n",
       "  </tbody>\n",
       "</table>\n",
       "<p>7947 rows × 20 columns</p>\n",
       "</div>"
      ],
      "text/plain": [
       "                          To            From  \\\n",
       "0                  zeptimusQ    Tam2140#9361   \n",
       "1                  zeptimusQ  iviangita#3204   \n",
       "2                  zeptimusQ  Juankbell#7458   \n",
       "3                  zeptimusQ  iviangita#3204   \n",
       "4                  zeptimusQ  iviangita#3204   \n",
       "..                       ...             ...   \n",
       "505                   atacas     Quantifiers   \n",
       "506                luukweber       iviangita   \n",
       "507                  krrisis      GriffGreen   \n",
       "508                  sbilbao  JessicaZartler   \n",
       "509  cryptononymouseconomist  JessicaZartler   \n",
       "\n",
       "                                    Reason for dishing  \\\n",
       "0              for hosting this kicking params party!    \n",
       "1     for hosting and leading a lot of params parties    \n",
       "2    for testing and deploying the bot to record an...   \n",
       "3             for the huge success of the MVV process    \n",
       "4    for his awesome work on the recorder bot, for ...   \n",
       "..                                                 ...   \n",
       "505  Gets paid by the Commons Stack so he only gets...   \n",
       "506           participating in the Praisegiving Call 😀   \n",
       "507  sharing the gitcoin blog post... lots of great...   \n",
       "508  joining the TE Praise channel and the TEC lab ...   \n",
       "509  joining the TE Praise channel and the TEC lab ...   \n",
       "\n",
       "                    Unnamed: 3                 Date           Room  v1 norm  \\\n",
       "0    Token Engineering Commons          May-07-2021        🙏praise  10000.0   \n",
       "1    Token Engineering Commons          May-07-2021        🙏praise  10000.0   \n",
       "2    Token Engineering Commons          Apr-28-2021        🙏praise   1000.0   \n",
       "3    Token Engineering Commons          Apr-30-2021        🙏praise   1000.0   \n",
       "4    Token Engineering Commons          Apr-30-2021        🙏praise   1000.0   \n",
       "..                         ...                  ...            ...      ...   \n",
       "505                        NaN                 None            NaN      NaN   \n",
       "506                     PRAISE  2020-11-28 00:00:00      TE Praise     40.0   \n",
       "507                     PRAISE  2020-12-02 00:00:00  Commons Stack     10.0   \n",
       "508                     PRAISE  2020-11-27 00:00:00      TE Praise     50.0   \n",
       "509                     PRAISE  2020-11-27 00:00:00      TE Praise     50.0   \n",
       "\n",
       "     v2 norm  v3 norm     Avg %  IH per Praise  IH per person  \\\n",
       "0      100.0    200.0  0.001963       2.355252       39.04072   \n",
       "1      100.0    100.0  0.001663       1.995539       39.04072   \n",
       "2      200.0    200.0  0.001342       1.610872       39.04072   \n",
       "3      200.0    100.0  0.001043       1.251160       39.04072   \n",
       "4      200.0    100.0  0.001043       1.251160       39.04072   \n",
       "..       ...      ...       ...            ...            ...   \n",
       "505      NaN      NaN  0.000000            NaN            NaN   \n",
       "506     30.0     30.0  0.001180            NaN            NaN   \n",
       "507     40.0     40.0  0.001103            NaN            NaN   \n",
       "508     30.0     10.0  0.001005            NaN            NaN   \n",
       "509     30.0     10.0  0.001005            NaN            NaN   \n",
       "\n",
       "                 Unnamed: 12         v1     v2     v3     period  \\\n",
       "0                  zeptimusQ  Metaverde  Juank    Edu  #17 May 7   \n",
       "1                  zeptimusQ  Metaverde  Juank    Edu  #17 May 7   \n",
       "2                  zeptimusQ  Metaverde  Juank    Edu  #17 May 7   \n",
       "3                  zeptimusQ  Metaverde  Juank    Edu  #17 May 7   \n",
       "4                  zeptimusQ  Metaverde  Juank    Edu  #17 May 7   \n",
       "..                       ...        ...    ...    ...        ...   \n",
       "505                   atacas      Griff    Zep  Santi   #6 Dec 4   \n",
       "506                luukweber      Griff    Zep  Santi   #6 Dec 4   \n",
       "507                  krrisis      Griff    Zep  Santi   #6 Dec 4   \n",
       "508                  sbilbao      Griff    Zep  Santi   #6 Dec 4   \n",
       "509  cryptononymouseconomist      Griff    Zep  Santi   #6 Dec 4   \n",
       "\n",
       "     Cred per Praise  Cred per person To.1  \n",
       "0                NaN              NaN  NaN  \n",
       "1                NaN              NaN  NaN  \n",
       "2                NaN              NaN  NaN  \n",
       "3                NaN              NaN  NaN  \n",
       "4                NaN              NaN  NaN  \n",
       "..               ...              ...  ...  \n",
       "505        -5.494332         0.969588  NaN  \n",
       "506         0.924158         0.924158  NaN  \n",
       "507         0.863962         0.863962  NaN  \n",
       "508         0.786973         0.786973  NaN  \n",
       "509         0.786973         0.786973  NaN  \n",
       "\n",
       "[7947 rows x 20 columns]"
      ]
     },
     "execution_count": 6,
     "metadata": {},
     "output_type": "execute_result"
    }
   ],
   "source": [
    "receivers = combined_data[~combined_data[['IH per Praise', 'IH per person', 'Unnamed: 12']].isna().all(axis=1)]\n",
    "receivers"
   ]
  },
  {
   "cell_type": "markdown",
   "metadata": {
    "id": "MDP9QBISZsh7"
   },
   "source": [
    "---\n",
    "\n",
    "# Investigations from octopus🐙"
   ]
  },
  {
   "cell_type": "markdown",
   "metadata": {
    "id": "eLnoReyPZsh7"
   },
   "source": [
    "I'm going to do some basic analysis of the parts of the data set that are encoded with words. "
   ]
  },
  {
   "cell_type": "code",
   "execution_count": 7,
   "metadata": {
    "id": "-i6T8iH9Zsh8"
   },
   "outputs": [],
   "source": [
    "import seaborn as sns #seaborn is my plotting tool of choice"
   ]
  },
  {
   "cell_type": "code",
   "execution_count": 8,
   "metadata": {
    "id": "qp5zcmQdZsh9"
   },
   "outputs": [
    {
     "data": {
      "text/plain": [
       "Index(['To', 'From', 'Reason for dishing', 'Unnamed: 3', 'Date', 'Room',\n",
       "       'v1 norm', 'v2 norm', 'v3 norm', 'Avg %', 'IH per Praise',\n",
       "       'IH per person', 'Unnamed: 12', 'v1', 'v2', 'v3', 'period',\n",
       "       'Cred per Praise', 'Cred per person', 'To.1'],\n",
       "      dtype='object')"
      ]
     },
     "execution_count": 8,
     "metadata": {},
     "output_type": "execute_result"
    }
   ],
   "source": [
    "receivers.columns"
   ]
  },
  {
   "cell_type": "markdown",
   "metadata": {
    "id": "3y7roqUaZsh-"
   },
   "source": [
    "### Where does praise happen?"
   ]
  },
  {
   "cell_type": "code",
   "execution_count": 9,
   "metadata": {
    "id": "AdHl3XIZZsh_"
   },
   "outputs": [
    {
     "data": {
      "text/plain": [
       "[Text(0.5, 0, 'Count'),\n",
       " Text(0, 0.5, 'Source'),\n",
       " Text(0.5, 1.0, 'Where Praise is Given')]"
      ]
     },
     "execution_count": 9,
     "metadata": {},
     "output_type": "execute_result"
    },
    {
     "data": {
      "image/png": "[encoded data removed]",
      "text/plain": [
       "<Figure size 432x288 with 1 Axes>"
      ]
     },
     "metadata": {
      "needs_background": "light"
     },
     "output_type": "display_data"
    }
   ],
   "source": [
    "sources = receivers.groupby(\"Unnamed: 3\").count()\n",
    "sources\n",
    "\n",
    "ax = sns.barplot(y = sources.index, x = sources[\"To\"],  order = sources.sort_values(\"To\", ascending = False).index)\n",
    "ax.set(xlabel=\"Count\", ylabel=\"Source\", title = \"Where Praise is Given\")"
   ]
  },
  {
   "cell_type": "code",
   "execution_count": 10,
   "metadata": {
    "id": "gwLwVpzwZsh_"
   },
   "outputs": [
    {
     "data": {
      "text/plain": [
       "[Text(0.5, 0, 'Count'),\n",
       " Text(0, 0.5, 'Source'),\n",
       " Text(0.5, 1.0, 'Where Praise is Given')]"
      ]
     },
     "execution_count": 10,
     "metadata": {},
     "output_type": "execute_result"
    },
    {
     "name": "stderr",
     "output_type": "stream",
     "text": [
      "C:\\Users\\owner\\anaconda3\\lib\\site-packages\\matplotlib\\backends\\backend_agg.py:238: RuntimeWarning: Glyph 128591 missing from current font.\n",
      "  font.set_text(s, 0.0, flags=flags)\n",
      "C:\\Users\\owner\\anaconda3\\lib\\site-packages\\matplotlib\\backends\\backend_agg.py:238: RuntimeWarning: Glyph 128588 missing from current font.\n",
      "  font.set_text(s, 0.0, flags=flags)\n",
      "C:\\Users\\owner\\anaconda3\\lib\\site-packages\\matplotlib\\backends\\backend_agg.py:238: RuntimeWarning: Glyph 127999 missing from current font.\n",
      "  font.set_text(s, 0.0, flags=flags)\n",
      "C:\\Users\\owner\\anaconda3\\lib\\site-packages\\matplotlib\\backends\\backend_agg.py:238: RuntimeWarning: Glyph 127760 missing from current font.\n",
      "  font.set_text(s, 0.0, flags=flags)\n",
      "C:\\Users\\owner\\anaconda3\\lib\\site-packages\\matplotlib\\backends\\backend_agg.py:238: RuntimeWarning: Glyph 127915 missing from current font.\n",
      "  font.set_text(s, 0.0, flags=flags)\n",
      "C:\\Users\\owner\\anaconda3\\lib\\site-packages\\matplotlib\\backends\\backend_agg.py:238: RuntimeWarning: Glyph 127806 missing from current font.\n",
      "  font.set_text(s, 0.0, flags=flags)\n",
      "C:\\Users\\owner\\anaconda3\\lib\\site-packages\\matplotlib\\backends\\backend_agg.py:238: RuntimeWarning: Glyph 129514 missing from current font.\n",
      "  font.set_text(s, 0.0, flags=flags)\n",
      "C:\\Users\\owner\\anaconda3\\lib\\site-packages\\matplotlib\\backends\\backend_agg.py:238: RuntimeWarning: Glyph 127812 missing from current font.\n",
      "  font.set_text(s, 0.0, flags=flags)\n",
      "C:\\Users\\owner\\anaconda3\\lib\\site-packages\\matplotlib\\backends\\backend_agg.py:238: RuntimeWarning: Glyph 128225 missing from current font.\n",
      "  font.set_text(s, 0.0, flags=flags)\n",
      "C:\\Users\\owner\\anaconda3\\lib\\site-packages\\matplotlib\\backends\\backend_agg.py:238: RuntimeWarning: Glyph 128300 missing from current font.\n",
      "  font.set_text(s, 0.0, flags=flags)\n",
      "C:\\Users\\owner\\anaconda3\\lib\\site-packages\\matplotlib\\backends\\backend_agg.py:238: RuntimeWarning: Glyph 127963 missing from current font.\n",
      "  font.set_text(s, 0.0, flags=flags)\n",
      "C:\\Users\\owner\\anaconda3\\lib\\site-packages\\matplotlib\\backends\\backend_agg.py:238: RuntimeWarning: Glyph 129302 missing from current font.\n",
      "  font.set_text(s, 0.0, flags=flags)\n",
      "C:\\Users\\owner\\anaconda3\\lib\\site-packages\\matplotlib\\backends\\backend_agg.py:238: RuntimeWarning: Glyph 127889 missing from current font.\n",
      "  font.set_text(s, 0.0, flags=flags)\n",
      "C:\\Users\\owner\\anaconda3\\lib\\site-packages\\matplotlib\\backends\\backend_agg.py:238: RuntimeWarning: Glyph 127807 missing from current font.\n",
      "  font.set_text(s, 0.0, flags=flags)\n",
      "C:\\Users\\owner\\anaconda3\\lib\\site-packages\\matplotlib\\backends\\backend_agg.py:238: RuntimeWarning: Glyph 127997 missing from current font.\n",
      "  font.set_text(s, 0.0, flags=flags)\n",
      "C:\\Users\\owner\\anaconda3\\lib\\site-packages\\matplotlib\\backends\\backend_agg.py:238: RuntimeWarning: Glyph 129370 missing from current font.\n",
      "  font.set_text(s, 0.0, flags=flags)\n",
      "C:\\Users\\owner\\anaconda3\\lib\\site-packages\\matplotlib\\backends\\backend_agg.py:238: RuntimeWarning: Glyph 127903 missing from current font.\n",
      "  font.set_text(s, 0.0, flags=flags)\n",
      "C:\\Users\\owner\\anaconda3\\lib\\site-packages\\matplotlib\\backends\\backend_agg.py:238: RuntimeWarning: Glyph 127955 missing from current font.\n",
      "  font.set_text(s, 0.0, flags=flags)\n",
      "C:\\Users\\owner\\anaconda3\\lib\\site-packages\\matplotlib\\backends\\backend_agg.py:238: RuntimeWarning: Glyph 127917 missing from current font.\n",
      "  font.set_text(s, 0.0, flags=flags)\n",
      "C:\\Users\\owner\\anaconda3\\lib\\site-packages\\matplotlib\\backends\\backend_agg.py:201: RuntimeWarning: Glyph 128591 missing from current font.\n",
      "  font.set_text(s, 0, flags=flags)\n",
      "C:\\Users\\owner\\anaconda3\\lib\\site-packages\\matplotlib\\backends\\backend_agg.py:201: RuntimeWarning: Glyph 128588 missing from current font.\n",
      "  font.set_text(s, 0, flags=flags)\n",
      "C:\\Users\\owner\\anaconda3\\lib\\site-packages\\matplotlib\\backends\\backend_agg.py:201: RuntimeWarning: Glyph 127999 missing from current font.\n",
      "  font.set_text(s, 0, flags=flags)\n",
      "C:\\Users\\owner\\anaconda3\\lib\\site-packages\\matplotlib\\backends\\backend_agg.py:201: RuntimeWarning: Glyph 127760 missing from current font.\n",
      "  font.set_text(s, 0, flags=flags)\n",
      "C:\\Users\\owner\\anaconda3\\lib\\site-packages\\matplotlib\\backends\\backend_agg.py:201: RuntimeWarning: Glyph 127915 missing from current font.\n",
      "  font.set_text(s, 0, flags=flags)\n",
      "C:\\Users\\owner\\anaconda3\\lib\\site-packages\\matplotlib\\backends\\backend_agg.py:201: RuntimeWarning: Glyph 127806 missing from current font.\n",
      "  font.set_text(s, 0, flags=flags)\n",
      "C:\\Users\\owner\\anaconda3\\lib\\site-packages\\matplotlib\\backends\\backend_agg.py:201: RuntimeWarning: Glyph 129514 missing from current font.\n",
      "  font.set_text(s, 0, flags=flags)\n",
      "C:\\Users\\owner\\anaconda3\\lib\\site-packages\\matplotlib\\backends\\backend_agg.py:201: RuntimeWarning: Glyph 127812 missing from current font.\n",
      "  font.set_text(s, 0, flags=flags)\n",
      "C:\\Users\\owner\\anaconda3\\lib\\site-packages\\matplotlib\\backends\\backend_agg.py:201: RuntimeWarning: Glyph 128225 missing from current font.\n",
      "  font.set_text(s, 0, flags=flags)\n",
      "C:\\Users\\owner\\anaconda3\\lib\\site-packages\\matplotlib\\backends\\backend_agg.py:201: RuntimeWarning: Glyph 128300 missing from current font.\n",
      "  font.set_text(s, 0, flags=flags)\n",
      "C:\\Users\\owner\\anaconda3\\lib\\site-packages\\matplotlib\\backends\\backend_agg.py:201: RuntimeWarning: Glyph 127963 missing from current font.\n",
      "  font.set_text(s, 0, flags=flags)\n",
      "C:\\Users\\owner\\anaconda3\\lib\\site-packages\\matplotlib\\backends\\backend_agg.py:201: RuntimeWarning: Glyph 129302 missing from current font.\n",
      "  font.set_text(s, 0, flags=flags)\n",
      "C:\\Users\\owner\\anaconda3\\lib\\site-packages\\matplotlib\\backends\\backend_agg.py:201: RuntimeWarning: Glyph 127889 missing from current font.\n",
      "  font.set_text(s, 0, flags=flags)\n",
      "C:\\Users\\owner\\anaconda3\\lib\\site-packages\\matplotlib\\backends\\backend_agg.py:201: RuntimeWarning: Glyph 127807 missing from current font.\n",
      "  font.set_text(s, 0, flags=flags)\n",
      "C:\\Users\\owner\\anaconda3\\lib\\site-packages\\matplotlib\\backends\\backend_agg.py:201: RuntimeWarning: Glyph 127997 missing from current font.\n",
      "  font.set_text(s, 0, flags=flags)\n",
      "C:\\Users\\owner\\anaconda3\\lib\\site-packages\\matplotlib\\backends\\backend_agg.py:201: RuntimeWarning: Glyph 129370 missing from current font.\n",
      "  font.set_text(s, 0, flags=flags)\n",
      "C:\\Users\\owner\\anaconda3\\lib\\site-packages\\matplotlib\\backends\\backend_agg.py:201: RuntimeWarning: Glyph 127903 missing from current font.\n",
      "  font.set_text(s, 0, flags=flags)\n",
      "C:\\Users\\owner\\anaconda3\\lib\\site-packages\\matplotlib\\backends\\backend_agg.py:201: RuntimeWarning: Glyph 127955 missing from current font.\n",
      "  font.set_text(s, 0, flags=flags)\n",
      "C:\\Users\\owner\\anaconda3\\lib\\site-packages\\matplotlib\\backends\\backend_agg.py:201: RuntimeWarning: Glyph 127917 missing from current font.\n",
      "  font.set_text(s, 0, flags=flags)\n"
     ]
    },
    {
     "data": {
      "image/png": "[encoded data removed]",
      "text/plain": [
       "<Figure size 720x576 with 1 Axes>"
      ]
     },
     "metadata": {
      "needs_background": "light"
     },
     "output_type": "display_data"
    }
   ],
   "source": [
    "room_sources = receivers.groupby(\"Room\").count()\n",
    "room_sources\n",
    "\n",
    "plt.figure(figsize=(10,8))\n",
    "ax = sns.barplot(y = room_sources.index, x = room_sources[\"To\"],  order = room_sources.sort_values(\"To\",                                                                                                 ascending = False).index)\n",
    "ax.set(xlabel=\"Count\", ylabel=\"Source\", title = \"Where Praise is Given\")"
   ]
  },
  {
   "cell_type": "markdown",
   "metadata": {
    "id": "1wbhPzxIZsiD"
   },
   "source": [
    "### A naming issue in our data "
   ]
  },
  {
   "cell_type": "markdown",
   "metadata": {
    "id": "ZVNOm5MHZsiD"
   },
   "source": [
    " There is a **naming** issue in the data frame that we need to address.\n"
   ]
  },
  {
   "cell_type": "markdown",
   "metadata": {
    "id": "ms14V04lZsiE"
   },
   "source": [
    "The issue is that some users receive praise with variations on their names. It would be good to consolidate these users for this analysis. \n",
    "\n",
    "There are three issues we see:\n",
    "1. inconsistent case (zeptimusq vs. zeptimusQ)\n",
    "2. usernames with punctuation that get dropped when praising (ygg_anderson vs. ygganderson)\n",
    "3. the Discord four-digit identifier (AmwFund vs. AmwFund#0979)\n",
    "\n",
    "Here are the potential fixes:\n",
    "1. enforce all lowercase for names\n",
    "2. drop all punctuation in names\n",
    "3. drop the pattern \"#dddd\" where d is any digit.\n",
    "\n",
    "Now we write a function to do all of these."
   ]
  },
  {
   "cell_type": "code",
   "execution_count": 11,
   "metadata": {
    "id": "ToUGeCk-2ODu"
   },
   "outputs": [],
   "source": [
    "import re\n",
    "\n",
    "def clean_name(name):\n",
    "    new_name = str(name)\n",
    "    new_name = new_name.lower()\n",
    "    new_name = re.sub('#\\d\\d\\d\\d','',new_name)\n",
    "    new_name = re.sub('[^A-Za-z0-9]+', '', new_name) #remove all non-alphanumeric characters\n",
    "    return new_name"
   ]
  },
  {
   "cell_type": "markdown",
   "metadata": {
    "id": "1lwHc9zZ40x8"
   },
   "source": [
    "Below are some sanity checks that the function works as intended. "
   ]
  },
  {
   "cell_type": "code",
   "execution_count": 12,
   "metadata": {
    "id": "PNcRco4b4TO6"
   },
   "outputs": [
    {
     "data": {
      "text/plain": [
       "'zeptimusq'"
      ]
     },
     "execution_count": 12,
     "metadata": {},
     "output_type": "execute_result"
    }
   ],
   "source": [
    "clean_name(\"zeptimusQ\")"
   ]
  },
  {
   "cell_type": "code",
   "execution_count": 13,
   "metadata": {
    "id": "X--axM9y4Ym-"
   },
   "outputs": [
    {
     "data": {
      "text/plain": [
       "'ygganderson'"
      ]
     },
     "execution_count": 13,
     "metadata": {},
     "output_type": "execute_result"
    }
   ],
   "source": [
    "clean_name(\"ygg_anderson\")"
   ]
  },
  {
   "cell_type": "code",
   "execution_count": 14,
   "metadata": {
    "id": "Z87MXoHk4lqa"
   },
   "outputs": [
    {
     "data": {
      "text/plain": [
       "'amwfund'"
      ]
     },
     "execution_count": 14,
     "metadata": {},
     "output_type": "execute_result"
    }
   ],
   "source": [
    "clean_name(\"AmwFund#0979\")"
   ]
  },
  {
   "cell_type": "code",
   "execution_count": 15,
   "metadata": {
    "id": "UuFBNUAh5fts"
   },
   "outputs": [
    {
     "data": {
      "text/plain": [
       "'caeserpst'"
      ]
     },
     "execution_count": 15,
     "metadata": {},
     "output_type": "execute_result"
    }
   ],
   "source": [
    "clean_name(\"Caeser (PST)#0046\")"
   ]
  },
  {
   "cell_type": "markdown",
   "metadata": {
    "id": "gMTtODQU48Ig"
   },
   "source": [
    "It's true some information is lost, but we need some kind of standardized format.  Now we will clean the **\"To\"** and **\"From\"**columns to match this standardized form (other name columns like **\"v1\"** should probably also be cleaned, but we'll leave them for now.)"
   ]
  },
  {
   "cell_type": "code",
   "execution_count": 16,
   "metadata": {
    "id": "gWihgAxC5UPx"
   },
   "outputs": [
    {
     "name": "stderr",
     "output_type": "stream",
     "text": [
      "<ipython-input-16-6e59e6a5d5e6>:1: SettingWithCopyWarning: \n",
      "A value is trying to be set on a copy of a slice from a DataFrame.\n",
      "Try using .loc[row_indexer,col_indexer] = value instead\n",
      "\n",
      "See the caveats in the documentation: https://pandas.pydata.org/pandas-docs/stable/user_guide/indexing.html#returning-a-view-versus-a-copy\n",
      "  receivers[\"To\"] = receivers[\"To\"].map(clean_name)\n",
      "<ipython-input-16-6e59e6a5d5e6>:2: SettingWithCopyWarning: \n",
      "A value is trying to be set on a copy of a slice from a DataFrame.\n",
      "Try using .loc[row_indexer,col_indexer] = value instead\n",
      "\n",
      "See the caveats in the documentation: https://pandas.pydata.org/pandas-docs/stable/user_guide/indexing.html#returning-a-view-versus-a-copy\n",
      "  receivers[\"From\"] = receivers[\"From\"].map(clean_name)\n"
     ]
    }
   ],
   "source": [
    "receivers[\"To\"] = receivers[\"To\"].map(clean_name)\n",
    "receivers[\"From\"] = receivers[\"From\"].map(clean_name)\n"
   ]
  },
  {
   "cell_type": "code",
   "execution_count": 17,
   "metadata": {},
   "outputs": [
    {
     "data": {
      "text/plain": [
       "0                    zeptimusq\n",
       "1                    zeptimusq\n",
       "2                    zeptimusq\n",
       "3                    zeptimusq\n",
       "4                    zeptimusq\n",
       "                ...           \n",
       "505                     atacas\n",
       "506                  luukweber\n",
       "507                    krrisis\n",
       "508                    sbilbao\n",
       "509    cryptononymouseconomist\n",
       "Name: To, Length: 7947, dtype: object"
      ]
     },
     "execution_count": 17,
     "metadata": {},
     "output_type": "execute_result"
    }
   ],
   "source": [
    "receivers[\"To\"]"
   ]
  },
  {
   "cell_type": "code",
   "execution_count": 18,
   "metadata": {},
   "outputs": [
    {
     "data": {
      "text/plain": [
       "0             tam2140\n",
       "1           iviangita\n",
       "2           juankbell\n",
       "3           iviangita\n",
       "4           iviangita\n",
       "            ...      \n",
       "505       quantifiers\n",
       "506         iviangita\n",
       "507        griffgreen\n",
       "508    jessicazartler\n",
       "509    jessicazartler\n",
       "Name: From, Length: 7947, dtype: object"
      ]
     },
     "execution_count": 18,
     "metadata": {},
     "output_type": "execute_result"
    }
   ],
   "source": [
    "receivers[\"From\"]"
   ]
  },
  {
   "cell_type": "code",
   "execution_count": 19,
   "metadata": {},
   "outputs": [],
   "source": [
    "receivers.to_csv(\"receivers-partially-cleaned.csv\")"
   ]
  },
  {
   "cell_type": "markdown",
   "metadata": {},
   "source": [
    "### <span style = \"color:red\"> Important issues with names </span>\n",
    "1. More duplicates? (zeptimus vs. zeptimusq)\n",
    "2. Apply cleaning to v1,v2,v3?\n"
   ]
  },
  {
   "cell_type": "markdown",
   "metadata": {
    "id": "TDmr4nAdZsiA"
   },
   "source": [
    "### Do some basic analysis. "
   ]
  },
  {
   "cell_type": "markdown",
   "metadata": {
    "id": "vPubSSyMZsiA"
   },
   "source": [
    "Now I'm going to create a new data frame that incorporates how many times each user gave and received praise. The next few cells accomplish this by using pivot_tables to create data frames which are then merged, with missing values replaced by 0."
   ]
  },
  {
   "cell_type": "code",
   "execution_count": 20,
   "metadata": {
    "id": "YQrmNnd9ZsiB"
   },
   "outputs": [
    {
     "data": {
      "text/html": [
       "<div>\n",
       "<style scoped>\n",
       "    .dataframe tbody tr th:only-of-type {\n",
       "        vertical-align: middle;\n",
       "    }\n",
       "\n",
       "    .dataframe tbody tr th {\n",
       "        vertical-align: top;\n",
       "    }\n",
       "\n",
       "    .dataframe thead th {\n",
       "        text-align: right;\n",
       "    }\n",
       "</style>\n",
       "<table border=\"1\" class=\"dataframe\">\n",
       "  <thead>\n",
       "    <tr style=\"text-align: right;\">\n",
       "      <th></th>\n",
       "      <th>to</th>\n",
       "    </tr>\n",
       "    <tr>\n",
       "      <th>To</th>\n",
       "      <th></th>\n",
       "    </tr>\n",
       "  </thead>\n",
       "  <tbody>\n",
       "    <tr>\n",
       "      <th>0xjoshua</th>\n",
       "      <td>1</td>\n",
       "    </tr>\n",
       "    <tr>\n",
       "      <th>aaronsoskin</th>\n",
       "      <td>2</td>\n",
       "    </tr>\n",
       "    <tr>\n",
       "      <th>abchewey</th>\n",
       "      <td>1</td>\n",
       "    </tr>\n",
       "    <tr>\n",
       "      <th>abornstein</th>\n",
       "      <td>1</td>\n",
       "    </tr>\n",
       "    <tr>\n",
       "      <th>acryptomuppet</th>\n",
       "      <td>1</td>\n",
       "    </tr>\n",
       "    <tr>\n",
       "      <th>...</th>\n",
       "      <td>...</td>\n",
       "    </tr>\n",
       "    <tr>\n",
       "      <th>ygganderson</th>\n",
       "      <td>182</td>\n",
       "    </tr>\n",
       "    <tr>\n",
       "      <th>youngkidwarrior</th>\n",
       "      <td>1</td>\n",
       "    </tr>\n",
       "    <tr>\n",
       "      <th>zeptimusq</th>\n",
       "      <td>380</td>\n",
       "    </tr>\n",
       "    <tr>\n",
       "      <th>zeroknowledge</th>\n",
       "      <td>1</td>\n",
       "    </tr>\n",
       "    <tr>\n",
       "      <th>zoushhoang</th>\n",
       "      <td>3</td>\n",
       "    </tr>\n",
       "  </tbody>\n",
       "</table>\n",
       "<p>348 rows × 1 columns</p>\n",
       "</div>"
      ],
      "text/plain": [
       "                  to\n",
       "To                  \n",
       "0xjoshua           1\n",
       "aaronsoskin        2\n",
       "abchewey           1\n",
       "abornstein         1\n",
       "acryptomuppet      1\n",
       "...              ...\n",
       "ygganderson      182\n",
       "youngkidwarrior    1\n",
       "zeptimusq        380\n",
       "zeroknowledge      1\n",
       "zoushhoang         3\n",
       "\n",
       "[348 rows x 1 columns]"
      ]
     },
     "execution_count": 20,
     "metadata": {},
     "output_type": "execute_result"
    }
   ],
   "source": [
    "praise_to = receivers.pivot_table(index = [\"To\"], aggfunc = 'size' ).to_frame(name = \"to\")\n",
    "praise_to"
   ]
  },
  {
   "cell_type": "code",
   "execution_count": 21,
   "metadata": {
    "id": "EiAhWU4_ZsiB"
   },
   "outputs": [
    {
     "data": {
      "text/html": [
       "<div>\n",
       "<style scoped>\n",
       "    .dataframe tbody tr th:only-of-type {\n",
       "        vertical-align: middle;\n",
       "    }\n",
       "\n",
       "    .dataframe tbody tr th {\n",
       "        vertical-align: top;\n",
       "    }\n",
       "\n",
       "    .dataframe thead th {\n",
       "        text-align: right;\n",
       "    }\n",
       "</style>\n",
       "<table border=\"1\" class=\"dataframe\">\n",
       "  <thead>\n",
       "    <tr style=\"text-align: right;\">\n",
       "      <th></th>\n",
       "      <th>from</th>\n",
       "    </tr>\n",
       "    <tr>\n",
       "      <th>From</th>\n",
       "      <th></th>\n",
       "    </tr>\n",
       "  </thead>\n",
       "  <tbody>\n",
       "    <tr>\n",
       "      <th>adnfx2</th>\n",
       "      <td>2</td>\n",
       "    </tr>\n",
       "    <tr>\n",
       "      <th>akrtws</th>\n",
       "      <td>5</td>\n",
       "    </tr>\n",
       "    <tr>\n",
       "      <th>amwfund</th>\n",
       "      <td>15</td>\n",
       "    </tr>\n",
       "    <tr>\n",
       "      <th>annamarieswan</th>\n",
       "      <td>10</td>\n",
       "    </tr>\n",
       "    <tr>\n",
       "      <th>anthonyoliai</th>\n",
       "      <td>2</td>\n",
       "    </tr>\n",
       "    <tr>\n",
       "      <th>...</th>\n",
       "      <td>...</td>\n",
       "    </tr>\n",
       "    <tr>\n",
       "      <th>vyvyvi</th>\n",
       "      <td>34</td>\n",
       "    </tr>\n",
       "    <tr>\n",
       "      <th>xgabi</th>\n",
       "      <td>2</td>\n",
       "    </tr>\n",
       "    <tr>\n",
       "      <th>ygganderson</th>\n",
       "      <td>57</td>\n",
       "    </tr>\n",
       "    <tr>\n",
       "      <th>zeptimus</th>\n",
       "      <td>199</td>\n",
       "    </tr>\n",
       "    <tr>\n",
       "      <th>zeptimusq</th>\n",
       "      <td>143</td>\n",
       "    </tr>\n",
       "  </tbody>\n",
       "</table>\n",
       "<p>67 rows × 1 columns</p>\n",
       "</div>"
      ],
      "text/plain": [
       "               from\n",
       "From               \n",
       "adnfx2            2\n",
       "akrtws            5\n",
       "amwfund          15\n",
       "annamarieswan    10\n",
       "anthonyoliai      2\n",
       "...             ...\n",
       "vyvyvi           34\n",
       "xgabi             2\n",
       "ygganderson      57\n",
       "zeptimus        199\n",
       "zeptimusq       143\n",
       "\n",
       "[67 rows x 1 columns]"
      ]
     },
     "execution_count": 21,
     "metadata": {},
     "output_type": "execute_result"
    }
   ],
   "source": [
    "praise_from = receivers.pivot_table(index = [\"From\"], aggfunc = 'size').to_frame(name = \"from\")\n",
    "praise_from"
   ]
  },
  {
   "cell_type": "code",
   "execution_count": 22,
   "metadata": {
    "id": "-7F5n3sxZsiC"
   },
   "outputs": [
    {
     "data": {
      "text/html": [
       "<div>\n",
       "<style scoped>\n",
       "    .dataframe tbody tr th:only-of-type {\n",
       "        vertical-align: middle;\n",
       "    }\n",
       "\n",
       "    .dataframe tbody tr th {\n",
       "        vertical-align: top;\n",
       "    }\n",
       "\n",
       "    .dataframe thead th {\n",
       "        text-align: right;\n",
       "    }\n",
       "</style>\n",
       "<table border=\"1\" class=\"dataframe\">\n",
       "  <thead>\n",
       "    <tr style=\"text-align: right;\">\n",
       "      <th></th>\n",
       "      <th>from</th>\n",
       "      <th>to</th>\n",
       "    </tr>\n",
       "  </thead>\n",
       "  <tbody>\n",
       "    <tr>\n",
       "      <th>adnfx2</th>\n",
       "      <td>2.0</td>\n",
       "      <td>4.0</td>\n",
       "    </tr>\n",
       "    <tr>\n",
       "      <th>akrtws</th>\n",
       "      <td>5.0</td>\n",
       "      <td>43.0</td>\n",
       "    </tr>\n",
       "    <tr>\n",
       "      <th>amwfund</th>\n",
       "      <td>15.0</td>\n",
       "      <td>0.0</td>\n",
       "    </tr>\n",
       "    <tr>\n",
       "      <th>annamarieswan</th>\n",
       "      <td>10.0</td>\n",
       "      <td>28.0</td>\n",
       "    </tr>\n",
       "    <tr>\n",
       "      <th>anthonyoliai</th>\n",
       "      <td>2.0</td>\n",
       "      <td>25.0</td>\n",
       "    </tr>\n",
       "  </tbody>\n",
       "</table>\n",
       "</div>"
      ],
      "text/plain": [
       "               from    to\n",
       "adnfx2          2.0   4.0\n",
       "akrtws          5.0  43.0\n",
       "amwfund        15.0   0.0\n",
       "annamarieswan  10.0  28.0\n",
       "anthonyoliai    2.0  25.0"
      ]
     },
     "execution_count": 22,
     "metadata": {},
     "output_type": "execute_result"
    }
   ],
   "source": [
    "praise_to_and_from = pd.concat([praise_from, praise_to], axis = 1)\n",
    "praise_to_and_from = praise_to_and_from.fillna(0)\n",
    "praise_to_and_from.head(5)"
   ]
  },
  {
   "cell_type": "markdown",
   "metadata": {
    "id": "_OwFvsLMZsiE"
   },
   "source": [
    "### Relationship Between Givers and Receivers"
   ]
  },
  {
   "cell_type": "markdown",
   "metadata": {
    "id": "2QFBzjKnZsiF"
   },
   "source": [
    "Let's make a scatterplot to see if we think there is a relationship betwen these two quantities. "
   ]
  },
  {
   "cell_type": "code",
   "execution_count": 23,
   "metadata": {
    "id": "jV000hvPZsiF"
   },
   "outputs": [
    {
     "data": {
      "text/plain": [
       "[Text(0.5, 1.0, 'Praise: To and From')]"
      ]
     },
     "execution_count": 23,
     "metadata": {},
     "output_type": "execute_result"
    },
    {
     "data": {
      "image/png": "[encoded data removed]",
      "text/plain": [
       "<Figure size 432x288 with 1 Axes>"
      ]
     },
     "metadata": {
      "needs_background": "light"
     },
     "output_type": "display_data"
    }
   ],
   "source": [
    "ax = sns.scatterplot(x = \"from\", y = \"to\", data = praise_to_and_from)\n",
    "ax.set(title = \"Praise: To and From\")"
   ]
  },
  {
   "cell_type": "markdown",
   "metadata": {
    "id": "YeU1tI3RZsiF"
   },
   "source": [
    "There doen't apear to be much of a relationship, primarily because **so many users** have zero values of **from**; this includes many users who are frequent praise recipients but do not give much. "
   ]
  },
  {
   "cell_type": "code",
   "execution_count": 24,
   "metadata": {
    "id": "MeAOU2YhZsiF"
   },
   "outputs": [
    {
     "data": {
      "text/plain": [
       "<AxesSubplot:xlabel='to', ylabel='Count'>"
      ]
     },
     "execution_count": 24,
     "metadata": {},
     "output_type": "execute_result"
    },
    {
     "data": {
      "image/png": "[encoded data removed]",
      "text/plain": [
       "<Figure size 432x288 with 1 Axes>"
      ]
     },
     "metadata": {
      "needs_background": "light"
     },
     "output_type": "display_data"
    }
   ],
   "source": [
    "sns.histplot(data = praise_to_and_from, x = \"to\")"
   ]
  },
  {
   "cell_type": "markdown",
   "metadata": {},
   "source": [
    "There are some outliers worth looking at. We'll look at the top 5% for both \"from\" and \"to\". "
   ]
  },
  {
   "cell_type": "code",
   "execution_count": 68,
   "metadata": {},
   "outputs": [
    {
     "name": "stdout",
     "output_type": "stream",
     "text": [
      "Here is the top 5% in terms of receiving praise. \n",
      "\n"
     ]
    },
    {
     "data": {
      "text/plain": [
       "griffgreen        511.0\n",
       "liviade           396.0\n",
       "zeptimusq         380.0\n",
       "juankbell         314.0\n",
       "tam2140           305.0\n",
       "jessicazartler    286.0\n",
       "freedumbs00       268.0\n",
       "sembrestels       267.0\n",
       "santigs67         239.0\n",
       "iviangita         219.0\n",
       "markop            211.0\n",
       "cranders71        192.0\n",
       "naynaysoo         182.0\n",
       "ygganderson       182.0\n",
       "vegayp            177.0\n",
       "chuygarcia92      167.0\n",
       "mateodaza         139.0\n",
       "pauloc2d          120.0\n",
       "Name: to, dtype: float64"
      ]
     },
     "execution_count": 68,
     "metadata": {},
     "output_type": "execute_result"
    }
   ],
   "source": [
    "print(\"Here is the top 5% in terms of receiving praise. \\n\")\n",
    "praise_to_and_from[praise_to_and_from[\"to\"] > praise_to_and_from[\"to\"].quantile(.95)][\"to\"].sort_values(ascending = False)"
   ]
  },
  {
   "cell_type": "code",
   "execution_count": 69,
   "metadata": {},
   "outputs": [
    {
     "name": "stdout",
     "output_type": "stream",
     "text": [
      "Here is the top 5% in terms of giving praise. \n",
      "\n"
     ]
    },
    {
     "data": {
      "text/plain": [
       "iviangita         3288.0\n",
       "griffgreen         575.0\n",
       "jessicazartler     531.0\n",
       "liviade            510.0\n",
       "juankbell          364.0\n",
       "quantifiers        316.0\n",
       "tam2140            293.0\n",
       "zeptimus           199.0\n",
       "cranders71         165.0\n",
       "markop             161.0\n",
       "griff              147.0\n",
       "zeptimusq          143.0\n",
       "sembrestels        139.0\n",
       "Name: from, dtype: float64"
      ]
     },
     "execution_count": 69,
     "metadata": {},
     "output_type": "execute_result"
    }
   ],
   "source": [
    "print(\"Here is the top 5% in terms of giving praise. \\n\")\n",
    "praise_to_and_from[praise_to_and_from[\"from\"] > praise_to_and_from[\"to\"].quantile(.95)][\"from\"].sort_values(ascending = False)"
   ]
  },
  {
   "cell_type": "markdown",
   "metadata": {},
   "source": [
    "### <span style = \"color:red\"> Some Issues: 1. Again it might be important to know whether some of these should be combined: are **zeptimus** and **zeptimusq** the same person? How about **griff** and **griffgreen**? 2. Who is **quantifiers**?  </span>"
   ]
  },
  {
   "cell_type": "code",
   "execution_count": 25,
   "metadata": {
    "id": "yWvXnKNHZsiG"
   },
   "outputs": [
    {
     "data": {
      "text/plain": [
       "<AxesSubplot:xlabel='to', ylabel='Count'>"
      ]
     },
     "execution_count": 25,
     "metadata": {},
     "output_type": "execute_result"
    },
    {
     "data": {
      "image/png": "[encoded data removed]",
      "text/plain": [
       "<Figure size 432x288 with 1 Axes>"
      ]
     },
     "metadata": {
      "needs_background": "light"
     },
     "output_type": "display_data"
    }
   ],
   "source": [
    "sns.histplot(data = praise_to_and_from.query(\"to > 0\"), x = \"to\")"
   ]
  },
  {
   "cell_type": "markdown",
   "metadata": {},
   "source": []
  },
  {
   "cell_type": "code",
   "execution_count": 26,
   "metadata": {
    "id": "stNvVUiKZsiG"
   },
   "outputs": [
    {
     "data": {
      "text/plain": [
       "0.31767955801104975"
      ]
     },
     "execution_count": 26,
     "metadata": {},
     "output_type": "execute_result"
    }
   ],
   "source": [
    "sum(praise_to_and_from[\"to\"] <= 1)/len(praise_to_and_from)"
   ]
  },
  {
   "cell_type": "code",
   "execution_count": 27,
   "metadata": {
    "id": "Ru-TwXYUZsiG"
   },
   "outputs": [
    {
     "data": {
      "text/plain": [
       "adnfx2             False\n",
       "akrtws             False\n",
       "amwfund            False\n",
       "annamarieswan      False\n",
       "anthonyoliai       False\n",
       "                   ...  \n",
       "yalormewn           True\n",
       "yangwao             True\n",
       "youngkidwarrior     True\n",
       "zeroknowledge       True\n",
       "zoushhoang          True\n",
       "Name: from, Length: 362, dtype: bool"
      ]
     },
     "execution_count": 27,
     "metadata": {},
     "output_type": "execute_result"
    }
   ],
   "source": [
    "praise_to_and_from[\"from\"] == 0"
   ]
  },
  {
   "cell_type": "code",
   "execution_count": 28,
   "metadata": {
    "id": "GqMUyeUJZsiG"
   },
   "outputs": [
    {
     "data": {
      "text/plain": [
       "0.8149171270718232"
      ]
     },
     "execution_count": 28,
     "metadata": {},
     "output_type": "execute_result"
    }
   ],
   "source": [
    "sum(praise_to_and_from[\"from\"] == 0)/len(praise_to_and_from)"
   ]
  },
  {
   "cell_type": "code",
   "execution_count": 29,
   "metadata": {
    "id": "eqINIyY7ZsiH"
   },
   "outputs": [
    {
     "data": {
      "text/plain": [
       "118.61194029850746"
      ]
     },
     "execution_count": 29,
     "metadata": {},
     "output_type": "execute_result"
    }
   ],
   "source": [
    "praise_to_and_from[praise_to_and_from[\"from\"] > 0][\"from\"].mean()"
   ]
  },
  {
   "cell_type": "markdown",
   "metadata": {
    "id": "ZLLhfvHXZsiH"
   },
   "source": [
    "Almost 80% of users here have not given any praise (this might be skewed *slightly* by the naming issue above, but probably not much). This is probably described by a Pareto distribution -- with 20% of the users giving 100% of the praise. Among users who gave some praise, they gave an average of roughly 118 praises."
   ]
  },
  {
   "cell_type": "code",
   "execution_count": 30,
   "metadata": {
    "id": "JJdRvKKpZsiH"
   },
   "outputs": [
    {
     "data": {
      "text/html": [
       "<div>\n",
       "<style scoped>\n",
       "    .dataframe tbody tr th:only-of-type {\n",
       "        vertical-align: middle;\n",
       "    }\n",
       "\n",
       "    .dataframe tbody tr th {\n",
       "        vertical-align: top;\n",
       "    }\n",
       "\n",
       "    .dataframe thead th {\n",
       "        text-align: right;\n",
       "    }\n",
       "</style>\n",
       "<table border=\"1\" class=\"dataframe\">\n",
       "  <thead>\n",
       "    <tr style=\"text-align: right;\">\n",
       "      <th></th>\n",
       "      <th>from</th>\n",
       "      <th>to</th>\n",
       "    </tr>\n",
       "  </thead>\n",
       "  <tbody>\n",
       "    <tr>\n",
       "      <th>count</th>\n",
       "      <td>362.000000</td>\n",
       "      <td>362.000000</td>\n",
       "    </tr>\n",
       "    <tr>\n",
       "      <th>mean</th>\n",
       "      <td>21.953039</td>\n",
       "      <td>21.953039</td>\n",
       "    </tr>\n",
       "    <tr>\n",
       "      <th>std</th>\n",
       "      <td>182.659290</td>\n",
       "      <td>60.477514</td>\n",
       "    </tr>\n",
       "    <tr>\n",
       "      <th>min</th>\n",
       "      <td>0.000000</td>\n",
       "      <td>0.000000</td>\n",
       "    </tr>\n",
       "    <tr>\n",
       "      <th>25%</th>\n",
       "      <td>0.000000</td>\n",
       "      <td>1.000000</td>\n",
       "    </tr>\n",
       "    <tr>\n",
       "      <th>50%</th>\n",
       "      <td>0.000000</td>\n",
       "      <td>3.000000</td>\n",
       "    </tr>\n",
       "    <tr>\n",
       "      <th>75%</th>\n",
       "      <td>0.000000</td>\n",
       "      <td>10.000000</td>\n",
       "    </tr>\n",
       "    <tr>\n",
       "      <th>max</th>\n",
       "      <td>3288.000000</td>\n",
       "      <td>511.000000</td>\n",
       "    </tr>\n",
       "  </tbody>\n",
       "</table>\n",
       "</div>"
      ],
      "text/plain": [
       "              from          to\n",
       "count   362.000000  362.000000\n",
       "mean     21.953039   21.953039\n",
       "std     182.659290   60.477514\n",
       "min       0.000000    0.000000\n",
       "25%       0.000000    1.000000\n",
       "50%       0.000000    3.000000\n",
       "75%       0.000000   10.000000\n",
       "max    3288.000000  511.000000"
      ]
     },
     "execution_count": 30,
     "metadata": {},
     "output_type": "execute_result"
    }
   ],
   "source": [
    "print(\"Here are summary statistics for all users in the data set. \\n\")\n",
    "praise_to_and_from.describe()"
   ]
  },
  {
   "cell_type": "code",
   "execution_count": 71,
   "metadata": {},
   "outputs": [
    {
     "name": "stdout",
     "output_type": "stream",
     "text": [
      "Here are summary statistics for all users in the data set who have given at least one praise. \n",
      "\n"
     ]
    },
    {
     "data": {
      "text/html": [
       "<div>\n",
       "<style scoped>\n",
       "    .dataframe tbody tr th:only-of-type {\n",
       "        vertical-align: middle;\n",
       "    }\n",
       "\n",
       "    .dataframe tbody tr th {\n",
       "        vertical-align: top;\n",
       "    }\n",
       "\n",
       "    .dataframe thead th {\n",
       "        text-align: right;\n",
       "    }\n",
       "</style>\n",
       "<table border=\"1\" class=\"dataframe\">\n",
       "  <thead>\n",
       "    <tr style=\"text-align: right;\">\n",
       "      <th></th>\n",
       "      <th>from</th>\n",
       "      <th>to</th>\n",
       "      <th>generosity</th>\n",
       "    </tr>\n",
       "  </thead>\n",
       "  <tbody>\n",
       "    <tr>\n",
       "      <th>count</th>\n",
       "      <td>67.00000</td>\n",
       "      <td>67.000000</td>\n",
       "      <td>67.000000</td>\n",
       "    </tr>\n",
       "    <tr>\n",
       "      <th>mean</th>\n",
       "      <td>118.61194</td>\n",
       "      <td>87.731343</td>\n",
       "      <td>14.723781</td>\n",
       "    </tr>\n",
       "    <tr>\n",
       "      <th>std</th>\n",
       "      <td>413.34566</td>\n",
       "      <td>115.256707</td>\n",
       "      <td>49.476428</td>\n",
       "    </tr>\n",
       "    <tr>\n",
       "      <th>min</th>\n",
       "      <td>1.00000</td>\n",
       "      <td>0.000000</td>\n",
       "      <td>0.005618</td>\n",
       "    </tr>\n",
       "    <tr>\n",
       "      <th>25%</th>\n",
       "      <td>3.50000</td>\n",
       "      <td>3.000000</td>\n",
       "      <td>0.146429</td>\n",
       "    </tr>\n",
       "    <tr>\n",
       "      <th>50%</th>\n",
       "      <td>13.00000</td>\n",
       "      <td>34.000000</td>\n",
       "      <td>0.416667</td>\n",
       "    </tr>\n",
       "    <tr>\n",
       "      <th>75%</th>\n",
       "      <td>75.00000</td>\n",
       "      <td>112.500000</td>\n",
       "      <td>1.442317</td>\n",
       "    </tr>\n",
       "    <tr>\n",
       "      <th>max</th>\n",
       "      <td>3288.00000</td>\n",
       "      <td>511.000000</td>\n",
       "      <td>316.000000</td>\n",
       "    </tr>\n",
       "  </tbody>\n",
       "</table>\n",
       "</div>"
      ],
      "text/plain": [
       "             from          to  generosity\n",
       "count    67.00000   67.000000   67.000000\n",
       "mean    118.61194   87.731343   14.723781\n",
       "std     413.34566  115.256707   49.476428\n",
       "min       1.00000    0.000000    0.005618\n",
       "25%       3.50000    3.000000    0.146429\n",
       "50%      13.00000   34.000000    0.416667\n",
       "75%      75.00000  112.500000    1.442317\n",
       "max    3288.00000  511.000000  316.000000"
      ]
     },
     "execution_count": 71,
     "metadata": {},
     "output_type": "execute_result"
    }
   ],
   "source": [
    "print(\"Here are summary statistics for all users in the data set who have given at least one praise. \\n\")\n",
    "praise_to_and_from[praise_to_and_from[\"from\"] > 0].describe()"
   ]
  },
  {
   "cell_type": "markdown",
   "metadata": {},
   "source": [
    "### An attempt at feature engineering: generosity"
   ]
  },
  {
   "cell_type": "markdown",
   "metadata": {},
   "source": [
    "This relationship between **to** and **from** is somewhat interesting -- we define **generosity** as\n",
    "\n",
    "$$\\text{generosity} = \\frac{\\text{praises given}}{\\text{praises received + 1}}$$\n",
    "\n",
    "(the \"+1\" in the denominator is to avoid \"divide by 0\" issues). \n",
    "\n",
    "Does this give useful information? Not sure, but I thought I'd include it. "
   ]
  },
  {
   "cell_type": "code",
   "execution_count": 31,
   "metadata": {
    "id": "NC1KjhhgZsiI"
   },
   "outputs": [
    {
     "data": {
      "text/plain": [
       "quantifiers        316.0\n",
       "zeptimus           199.0\n",
       "griff              147.0\n",
       "kris                94.0\n",
       "eduardovegap        49.0\n",
       "                   ...  \n",
       "miles                0.0\n",
       "misterboyfriend      0.0\n",
       "monstros1ty          0.0\n",
       "morgangr             0.0\n",
       "jameszaki            0.0\n",
       "Name: generosity, Length: 362, dtype: float64"
      ]
     },
     "execution_count": 31,
     "metadata": {},
     "output_type": "execute_result"
    }
   ],
   "source": [
    "praise_to_and_from[\"generosity\"] = praise_to_and_from[\"from\"]/(praise_to_and_from[\"to\"] + 1)\n",
    "praise_to_and_from[\"generosity\"].sort_values(axis = 0, ascending = False)"
   ]
  },
  {
   "cell_type": "markdown",
   "metadata": {
    "id": "lSXrrVAjZwch"
   },
   "source": [
    "# Investigations from courier"
   ]
  },
  {
   "cell_type": "code",
   "execution_count": 34,
   "metadata": {
    "id": "2rxQSUiTa9as"
   },
   "outputs": [
    {
     "data": {
      "text/plain": [
       "Index(['Unnamed: 0', 'To', 'From', 'Reason for dishing', 'Unnamed: 3', 'Date',\n",
       "       'Room', 'v1 norm', 'v2 norm', 'v3 norm', 'Avg %', 'IH per Praise',\n",
       "       'IH per person', 'Unnamed: 12', 'v1', 'v2', 'v3', 'period',\n",
       "       'Cred per Praise', 'Cred per person', 'To.1'],\n",
       "      dtype='object')"
      ]
     },
     "execution_count": 34,
     "metadata": {},
     "output_type": "execute_result"
    }
   ],
   "source": [
    "df = pd.read_csv(\"receivers-partially-cleaned.csv\")\n",
    "df.head()\n",
    "df.columns"
   ]
  },
  {
   "cell_type": "code",
   "execution_count": 35,
   "metadata": {
    "id": "XTBYgVOOghFb"
   },
   "outputs": [
    {
     "data": {
      "text/plain": [
       "Unnamed: 0               0\n",
       "To                       1\n",
       "From                     1\n",
       "Reason for dishing       0\n",
       "Unnamed: 3             317\n",
       "Date                   317\n",
       "Room                   317\n",
       "v1 norm               2159\n",
       "v2 norm               1288\n",
       "v3 norm               1287\n",
       "Avg %                   17\n",
       "IH per Praise          564\n",
       "IH per person          510\n",
       "Unnamed: 12             64\n",
       "v1                       0\n",
       "v2                       0\n",
       "v3                       0\n",
       "period                   0\n",
       "Cred per Praise       7437\n",
       "Cred per person       7437\n",
       "To.1                  7947\n",
       "dtype: int64"
      ]
     },
     "execution_count": 35,
     "metadata": {},
     "output_type": "execute_result"
    }
   ],
   "source": [
    "df.isna().sum()"
   ]
  },
  {
   "cell_type": "markdown",
   "metadata": {
    "id": "3riUZ5gEhILs"
   },
   "source": [
    "We observe many null values in the final 3 columns. We will drop these for now."
   ]
  },
  {
   "cell_type": "code",
   "execution_count": 36,
   "metadata": {
    "id": "7YRjRV-RgxKs"
   },
   "outputs": [],
   "source": [
    "df.drop(['Cred per Praise', 'Cred per person', 'To.1'], inplace=True, axis=1)"
   ]
  },
  {
   "cell_type": "markdown",
   "metadata": {
    "id": "Xax7MPNejGe3"
   },
   "source": [
    "# Date inconsistency\n",
    "\n",
    "It appears that the format of the dates in the data is inconsistent. Some entries opt for the format Month-Day-Year while others use Year-Month-Day."
   ]
  },
  {
   "cell_type": "code",
   "execution_count": 37,
   "metadata": {
    "id": "dLSvf7YfiTNz"
   },
   "outputs": [
    {
     "data": {
      "text/plain": [
       "0               May-07-2021\n",
       "1               May-07-2021\n",
       "2               Apr-28-2021\n",
       "3               Apr-30-2021\n",
       "4               Apr-30-2021\n",
       "               ...         \n",
       "7942                    NaN\n",
       "7943    2020-11-28 00:00:00\n",
       "7944    2020-12-02 00:00:00\n",
       "7945    2020-11-27 00:00:00\n",
       "7946    2020-11-27 00:00:00\n",
       "Name: Date, Length: 7947, dtype: object"
      ]
     },
     "execution_count": 37,
     "metadata": {},
     "output_type": "execute_result"
    }
   ],
   "source": [
    "df['Date']"
   ]
  },
  {
   "cell_type": "code",
   "execution_count": 38,
   "metadata": {
    "id": "pQ9yS7-Vij2T"
   },
   "outputs": [
    {
     "data": {
      "text/plain": [
       "7942                    NaN\n",
       "7943    2020-11-28 00:00:00\n",
       "7944    2020-12-02 00:00:00\n",
       "7945    2020-11-27 00:00:00\n",
       "7946    2020-11-27 00:00:00\n",
       "Name: Date, dtype: object"
      ]
     },
     "execution_count": 38,
     "metadata": {},
     "output_type": "execute_result"
    }
   ],
   "source": [
    "df[\"Date\"].tail()"
   ]
  },
  {
   "cell_type": "code",
   "execution_count": 39,
   "metadata": {
    "id": "bLzD_rvKi3OV"
   },
   "outputs": [
    {
     "data": {
      "text/plain": [
       "0    May-07-2021\n",
       "1    May-07-2021\n",
       "2    Apr-28-2021\n",
       "3    Apr-30-2021\n",
       "4    Apr-30-2021\n",
       "Name: Date, dtype: object"
      ]
     },
     "execution_count": 39,
     "metadata": {},
     "output_type": "execute_result"
    }
   ],
   "source": [
    "df[\"Date\"].head()"
   ]
  },
  {
   "cell_type": "markdown",
   "metadata": {
    "id": "Ld8ux00Dxqsq"
   },
   "source": [
    "We will drop any NA dates."
   ]
  },
  {
   "cell_type": "code",
   "execution_count": 40,
   "metadata": {
    "id": "8V6AKrjUv4vq"
   },
   "outputs": [],
   "source": [
    "df[\"Date\"] = df[\"Date\"].dropna()"
   ]
  },
  {
   "cell_type": "code",
   "execution_count": 41,
   "metadata": {
    "id": "ag4Wu7C6j_sc"
   },
   "outputs": [],
   "source": [
    "from dateutil import parser"
   ]
  },
  {
   "cell_type": "markdown",
   "metadata": {
    "id": "yJSUAg-SrDa-"
   },
   "source": [
    "First we begin by turning all of the dates in the column into strings."
   ]
  },
  {
   "cell_type": "code",
   "execution_count": 42,
   "metadata": {
    "id": "J1QXX34ne3-d"
   },
   "outputs": [],
   "source": [
    "df[\"Date\"] = df[\"Date\"].apply(str)"
   ]
  },
  {
   "cell_type": "markdown",
   "metadata": {
    "id": "IgcAUQZQrViL"
   },
   "source": [
    "Some other dates just have the word \"dup\" instead of a date. We can get rid of these. "
   ]
  },
  {
   "cell_type": "code",
   "execution_count": 43,
   "metadata": {
    "id": "i0ujvP04qz6l"
   },
   "outputs": [
    {
     "data": {
      "text/html": [
       "<div>\n",
       "<style scoped>\n",
       "    .dataframe tbody tr th:only-of-type {\n",
       "        vertical-align: middle;\n",
       "    }\n",
       "\n",
       "    .dataframe tbody tr th {\n",
       "        vertical-align: top;\n",
       "    }\n",
       "\n",
       "    .dataframe thead th {\n",
       "        text-align: right;\n",
       "    }\n",
       "</style>\n",
       "<table border=\"1\" class=\"dataframe\">\n",
       "  <thead>\n",
       "    <tr style=\"text-align: right;\">\n",
       "      <th></th>\n",
       "      <th>Unnamed: 0</th>\n",
       "      <th>To</th>\n",
       "      <th>From</th>\n",
       "      <th>Reason for dishing</th>\n",
       "      <th>Unnamed: 3</th>\n",
       "      <th>Date</th>\n",
       "      <th>Room</th>\n",
       "      <th>v1 norm</th>\n",
       "      <th>v2 norm</th>\n",
       "      <th>v3 norm</th>\n",
       "      <th>Avg %</th>\n",
       "      <th>IH per Praise</th>\n",
       "      <th>IH per person</th>\n",
       "      <th>Unnamed: 12</th>\n",
       "      <th>v1</th>\n",
       "      <th>v2</th>\n",
       "      <th>v3</th>\n",
       "      <th>period</th>\n",
       "    </tr>\n",
       "  </thead>\n",
       "  <tbody>\n",
       "    <tr>\n",
       "      <th>7459</th>\n",
       "      <td>22</td>\n",
       "      <td>ygganderson</td>\n",
       "      <td>jessicazartler</td>\n",
       "      <td>hosting an amazing first TEC lab today on Pand...</td>\n",
       "      <td>PRAISE</td>\n",
       "      <td>dup</td>\n",
       "      <td>dup</td>\n",
       "      <td>NaN</td>\n",
       "      <td>NaN</td>\n",
       "      <td>NaN</td>\n",
       "      <td>0.0</td>\n",
       "      <td>NaN</td>\n",
       "      <td>NaN</td>\n",
       "      <td>ygganderson</td>\n",
       "      <td>Griff</td>\n",
       "      <td>Zep</td>\n",
       "      <td>Santi</td>\n",
       "      <td>#6 Dec 4</td>\n",
       "    </tr>\n",
       "    <tr>\n",
       "      <th>7693</th>\n",
       "      <td>256</td>\n",
       "      <td>liviade</td>\n",
       "      <td>iviangita</td>\n",
       "      <td>organizing the Praisegiving Call</td>\n",
       "      <td>PRAISE</td>\n",
       "      <td>dup</td>\n",
       "      <td>dup</td>\n",
       "      <td>NaN</td>\n",
       "      <td>NaN</td>\n",
       "      <td>NaN</td>\n",
       "      <td>0.0</td>\n",
       "      <td>NaN</td>\n",
       "      <td>NaN</td>\n",
       "      <td>liviade</td>\n",
       "      <td>Griff</td>\n",
       "      <td>Zep</td>\n",
       "      <td>Santi</td>\n",
       "      <td>#6 Dec 4</td>\n",
       "    </tr>\n",
       "    <tr>\n",
       "      <th>7707</th>\n",
       "      <td>270</td>\n",
       "      <td>pauloc2d</td>\n",
       "      <td>zeptimusq</td>\n",
       "      <td>completed the hatch connector, deployed xDai s...</td>\n",
       "      <td>PRAISE</td>\n",
       "      <td>dup</td>\n",
       "      <td>dup</td>\n",
       "      <td>NaN</td>\n",
       "      <td>NaN</td>\n",
       "      <td>NaN</td>\n",
       "      <td>0.0</td>\n",
       "      <td>NaN</td>\n",
       "      <td>NaN</td>\n",
       "      <td>paulo_c2d</td>\n",
       "      <td>Griff</td>\n",
       "      <td>Zep</td>\n",
       "      <td>Santi</td>\n",
       "      <td>#6 Dec 4</td>\n",
       "    </tr>\n",
       "    <tr>\n",
       "      <th>7743</th>\n",
       "      <td>306</td>\n",
       "      <td>jessicazartler</td>\n",
       "      <td>iviangita</td>\n",
       "      <td>organizing the Praisegiving Call</td>\n",
       "      <td>PRAISE</td>\n",
       "      <td>dup</td>\n",
       "      <td>dup</td>\n",
       "      <td>NaN</td>\n",
       "      <td>NaN</td>\n",
       "      <td>NaN</td>\n",
       "      <td>0.0</td>\n",
       "      <td>NaN</td>\n",
       "      <td>NaN</td>\n",
       "      <td>jessicazartler</td>\n",
       "      <td>Griff</td>\n",
       "      <td>Zep</td>\n",
       "      <td>Santi</td>\n",
       "      <td>#6 Dec 4</td>\n",
       "    </tr>\n",
       "    <tr>\n",
       "      <th>7835</th>\n",
       "      <td>398</td>\n",
       "      <td>gfriis</td>\n",
       "      <td>tam2140</td>\n",
       "      <td>championing Tokenlog, even as you start your n...</td>\n",
       "      <td>PRAISE</td>\n",
       "      <td>dup</td>\n",
       "      <td>dup</td>\n",
       "      <td>NaN</td>\n",
       "      <td>NaN</td>\n",
       "      <td>NaN</td>\n",
       "      <td>0.0</td>\n",
       "      <td>NaN</td>\n",
       "      <td>NaN</td>\n",
       "      <td>gfriis</td>\n",
       "      <td>Griff</td>\n",
       "      <td>Zep</td>\n",
       "      <td>Santi</td>\n",
       "      <td>#6 Dec 4</td>\n",
       "    </tr>\n",
       "  </tbody>\n",
       "</table>\n",
       "</div>"
      ],
      "text/plain": [
       "      Unnamed: 0              To            From  \\\n",
       "7459          22     ygganderson  jessicazartler   \n",
       "7693         256         liviade       iviangita   \n",
       "7707         270        pauloc2d       zeptimusq   \n",
       "7743         306  jessicazartler       iviangita   \n",
       "7835         398          gfriis         tam2140   \n",
       "\n",
       "                                     Reason for dishing Unnamed: 3 Date Room  \\\n",
       "7459  hosting an amazing first TEC lab today on Pand...     PRAISE  dup  dup   \n",
       "7693                   organizing the Praisegiving Call     PRAISE  dup  dup   \n",
       "7707  completed the hatch connector, deployed xDai s...     PRAISE  dup  dup   \n",
       "7743                   organizing the Praisegiving Call     PRAISE  dup  dup   \n",
       "7835  championing Tokenlog, even as you start your n...     PRAISE  dup  dup   \n",
       "\n",
       "      v1 norm  v2 norm  v3 norm  Avg %  IH per Praise  IH per person  \\\n",
       "7459      NaN      NaN      NaN    0.0            NaN            NaN   \n",
       "7693      NaN      NaN      NaN    0.0            NaN            NaN   \n",
       "7707      NaN      NaN      NaN    0.0            NaN            NaN   \n",
       "7743      NaN      NaN      NaN    0.0            NaN            NaN   \n",
       "7835      NaN      NaN      NaN    0.0            NaN            NaN   \n",
       "\n",
       "         Unnamed: 12     v1   v2     v3    period  \n",
       "7459     ygganderson  Griff  Zep  Santi  #6 Dec 4  \n",
       "7693         liviade  Griff  Zep  Santi  #6 Dec 4  \n",
       "7707       paulo_c2d  Griff  Zep  Santi  #6 Dec 4  \n",
       "7743  jessicazartler  Griff  Zep  Santi  #6 Dec 4  \n",
       "7835          gfriis  Griff  Zep  Santi  #6 Dec 4  "
      ]
     },
     "execution_count": 43,
     "metadata": {},
     "output_type": "execute_result"
    }
   ],
   "source": [
    "df[df[\"Date\"] == \"dup\"]"
   ]
  },
  {
   "cell_type": "code",
   "execution_count": 44,
   "metadata": {
    "id": "BqP4cnk9rb1I"
   },
   "outputs": [],
   "source": [
    "df = df[df[\"Date\"] != \"dup\"]"
   ]
  },
  {
   "cell_type": "code",
   "execution_count": 45,
   "metadata": {
    "id": "OYt2Na4o8ieF"
   },
   "outputs": [],
   "source": [
    "df = df[df[\"Date\"] != \"nan\"]"
   ]
  },
  {
   "cell_type": "code",
   "execution_count": 46,
   "metadata": {
    "id": "7RX5QbD-qahB"
   },
   "outputs": [],
   "source": [
    "def normalize_dates(date_str):\n",
    "  \"\"\"\n",
    "  This function takes in a string that contains a date and converts it to the \n",
    "  format Year-Month-Day.\n",
    "  \n",
    "  :param date_str: The string containing the date. \n",
    "  :return: The date in the format Year-Month-Day.\n",
    "  \"\"\"\n",
    "  d = parser.parse(date_str)\n",
    "  return d.strftime(\"%Y-%m-%d\")"
   ]
  },
  {
   "cell_type": "markdown",
   "metadata": {
    "id": "nUubCvLFsCKC"
   },
   "source": [
    "A quick sanity check to ensure that we have the correct results after this function was applied."
   ]
  },
  {
   "cell_type": "code",
   "execution_count": 47,
   "metadata": {
    "id": "IMGTdnB8qOJG"
   },
   "outputs": [
    {
     "data": {
      "text/plain": [
       "0       2021-05-07\n",
       "1       2021-05-07\n",
       "2       2021-04-28\n",
       "3       2021-04-30\n",
       "4       2021-04-30\n",
       "           ...    \n",
       "7941    2020-12-01\n",
       "7943    2020-11-28\n",
       "7944    2020-12-02\n",
       "7945    2020-11-27\n",
       "7946    2020-11-27\n",
       "Name: Date, Length: 7625, dtype: object"
      ]
     },
     "execution_count": 47,
     "metadata": {},
     "output_type": "execute_result"
    }
   ],
   "source": [
    "df[\"Date\"].apply(normalize_dates)"
   ]
  },
  {
   "cell_type": "code",
   "execution_count": 48,
   "metadata": {
    "id": "14ta3bDyn9-S"
   },
   "outputs": [
    {
     "data": {
      "text/plain": [
       "0               May-07-2021\n",
       "1               May-07-2021\n",
       "2               Apr-28-2021\n",
       "3               Apr-30-2021\n",
       "4               Apr-30-2021\n",
       "               ...         \n",
       "7941    2020-12-01 00:00:00\n",
       "7943    2020-11-28 00:00:00\n",
       "7944    2020-12-02 00:00:00\n",
       "7945    2020-11-27 00:00:00\n",
       "7946    2020-11-27 00:00:00\n",
       "Name: Date, Length: 7625, dtype: object"
      ]
     },
     "execution_count": 48,
     "metadata": {},
     "output_type": "execute_result"
    }
   ],
   "source": [
    "df[\"Date\"]"
   ]
  },
  {
   "cell_type": "code",
   "execution_count": 49,
   "metadata": {
    "id": "5eoNyhUOoFwM"
   },
   "outputs": [],
   "source": [
    "df[\"Date\"] = pd.to_datetime(df[\"Date\"])"
   ]
  },
  {
   "cell_type": "markdown",
   "metadata": {
    "id": "SVISelIyyFq1"
   },
   "source": [
    "Now we add features for the year month and day."
   ]
  },
  {
   "cell_type": "code",
   "execution_count": 50,
   "metadata": {
    "id": "zcEYh0EPsTkT"
   },
   "outputs": [],
   "source": [
    "df[\"Year\"] = df[\"Date\"].dt.year"
   ]
  },
  {
   "cell_type": "code",
   "execution_count": 51,
   "metadata": {
    "id": "WzXDCmL3sy4k"
   },
   "outputs": [],
   "source": [
    "df[\"Month\"] = df[\"Date\"].dt.month"
   ]
  },
  {
   "cell_type": "code",
   "execution_count": 52,
   "metadata": {
    "id": "3sNV1nyXtoTH"
   },
   "outputs": [],
   "source": [
    "df[\"Day\"] = df[\"Date\"].dt.day"
   ]
  },
  {
   "cell_type": "markdown",
   "metadata": {
    "id": "42MGaT2H8-vh"
   },
   "source": [
    "Now we can group the data based on these features."
   ]
  },
  {
   "cell_type": "code",
   "execution_count": 53,
   "metadata": {
    "id": "tcy18cAi1FEe"
   },
   "outputs": [],
   "source": [
    "days = df.groupby(['Day']).To.nunique().reset_index()"
   ]
  },
  {
   "cell_type": "code",
   "execution_count": 54,
   "metadata": {
    "id": "hEbDPdSD8FfN"
   },
   "outputs": [
    {
     "data": {
      "text/html": [
       "<div>\n",
       "<style scoped>\n",
       "    .dataframe tbody tr th:only-of-type {\n",
       "        vertical-align: middle;\n",
       "    }\n",
       "\n",
       "    .dataframe tbody tr th {\n",
       "        vertical-align: top;\n",
       "    }\n",
       "\n",
       "    .dataframe thead th {\n",
       "        text-align: right;\n",
       "    }\n",
       "</style>\n",
       "<table border=\"1\" class=\"dataframe\">\n",
       "  <thead>\n",
       "    <tr style=\"text-align: right;\">\n",
       "      <th></th>\n",
       "      <th>Day</th>\n",
       "      <th>To</th>\n",
       "    </tr>\n",
       "  </thead>\n",
       "  <tbody>\n",
       "    <tr>\n",
       "      <th>0</th>\n",
       "      <td>1</td>\n",
       "      <td>61</td>\n",
       "    </tr>\n",
       "    <tr>\n",
       "      <th>1</th>\n",
       "      <td>2</td>\n",
       "      <td>80</td>\n",
       "    </tr>\n",
       "    <tr>\n",
       "      <th>2</th>\n",
       "      <td>3</td>\n",
       "      <td>97</td>\n",
       "    </tr>\n",
       "    <tr>\n",
       "      <th>3</th>\n",
       "      <td>4</td>\n",
       "      <td>91</td>\n",
       "    </tr>\n",
       "    <tr>\n",
       "      <th>4</th>\n",
       "      <td>5</td>\n",
       "      <td>131</td>\n",
       "    </tr>\n",
       "    <tr>\n",
       "      <th>5</th>\n",
       "      <td>6</td>\n",
       "      <td>55</td>\n",
       "    </tr>\n",
       "    <tr>\n",
       "      <th>6</th>\n",
       "      <td>7</td>\n",
       "      <td>98</td>\n",
       "    </tr>\n",
       "    <tr>\n",
       "      <th>7</th>\n",
       "      <td>8</td>\n",
       "      <td>91</td>\n",
       "    </tr>\n",
       "    <tr>\n",
       "      <th>8</th>\n",
       "      <td>9</td>\n",
       "      <td>89</td>\n",
       "    </tr>\n",
       "    <tr>\n",
       "      <th>9</th>\n",
       "      <td>10</td>\n",
       "      <td>45</td>\n",
       "    </tr>\n",
       "    <tr>\n",
       "      <th>10</th>\n",
       "      <td>11</td>\n",
       "      <td>42</td>\n",
       "    </tr>\n",
       "    <tr>\n",
       "      <th>11</th>\n",
       "      <td>12</td>\n",
       "      <td>88</td>\n",
       "    </tr>\n",
       "    <tr>\n",
       "      <th>12</th>\n",
       "      <td>13</td>\n",
       "      <td>49</td>\n",
       "    </tr>\n",
       "    <tr>\n",
       "      <th>13</th>\n",
       "      <td>14</td>\n",
       "      <td>47</td>\n",
       "    </tr>\n",
       "    <tr>\n",
       "      <th>14</th>\n",
       "      <td>15</td>\n",
       "      <td>57</td>\n",
       "    </tr>\n",
       "    <tr>\n",
       "      <th>15</th>\n",
       "      <td>16</td>\n",
       "      <td>95</td>\n",
       "    </tr>\n",
       "    <tr>\n",
       "      <th>16</th>\n",
       "      <td>17</td>\n",
       "      <td>41</td>\n",
       "    </tr>\n",
       "    <tr>\n",
       "      <th>17</th>\n",
       "      <td>18</td>\n",
       "      <td>58</td>\n",
       "    </tr>\n",
       "    <tr>\n",
       "      <th>18</th>\n",
       "      <td>19</td>\n",
       "      <td>113</td>\n",
       "    </tr>\n",
       "    <tr>\n",
       "      <th>19</th>\n",
       "      <td>20</td>\n",
       "      <td>47</td>\n",
       "    </tr>\n",
       "    <tr>\n",
       "      <th>20</th>\n",
       "      <td>21</td>\n",
       "      <td>44</td>\n",
       "    </tr>\n",
       "    <tr>\n",
       "      <th>21</th>\n",
       "      <td>22</td>\n",
       "      <td>76</td>\n",
       "    </tr>\n",
       "    <tr>\n",
       "      <th>22</th>\n",
       "      <td>23</td>\n",
       "      <td>116</td>\n",
       "    </tr>\n",
       "    <tr>\n",
       "      <th>23</th>\n",
       "      <td>24</td>\n",
       "      <td>57</td>\n",
       "    </tr>\n",
       "    <tr>\n",
       "      <th>24</th>\n",
       "      <td>25</td>\n",
       "      <td>41</td>\n",
       "    </tr>\n",
       "    <tr>\n",
       "      <th>25</th>\n",
       "      <td>26</td>\n",
       "      <td>117</td>\n",
       "    </tr>\n",
       "    <tr>\n",
       "      <th>26</th>\n",
       "      <td>27</td>\n",
       "      <td>94</td>\n",
       "    </tr>\n",
       "    <tr>\n",
       "      <th>27</th>\n",
       "      <td>28</td>\n",
       "      <td>60</td>\n",
       "    </tr>\n",
       "    <tr>\n",
       "      <th>28</th>\n",
       "      <td>29</td>\n",
       "      <td>59</td>\n",
       "    </tr>\n",
       "    <tr>\n",
       "      <th>29</th>\n",
       "      <td>30</td>\n",
       "      <td>81</td>\n",
       "    </tr>\n",
       "    <tr>\n",
       "      <th>30</th>\n",
       "      <td>31</td>\n",
       "      <td>22</td>\n",
       "    </tr>\n",
       "  </tbody>\n",
       "</table>\n",
       "</div>"
      ],
      "text/plain": [
       "    Day   To\n",
       "0     1   61\n",
       "1     2   80\n",
       "2     3   97\n",
       "3     4   91\n",
       "4     5  131\n",
       "5     6   55\n",
       "6     7   98\n",
       "7     8   91\n",
       "8     9   89\n",
       "9    10   45\n",
       "10   11   42\n",
       "11   12   88\n",
       "12   13   49\n",
       "13   14   47\n",
       "14   15   57\n",
       "15   16   95\n",
       "16   17   41\n",
       "17   18   58\n",
       "18   19  113\n",
       "19   20   47\n",
       "20   21   44\n",
       "21   22   76\n",
       "22   23  116\n",
       "23   24   57\n",
       "24   25   41\n",
       "25   26  117\n",
       "26   27   94\n",
       "27   28   60\n",
       "28   29   59\n",
       "29   30   81\n",
       "30   31   22"
      ]
     },
     "execution_count": 54,
     "metadata": {},
     "output_type": "execute_result"
    }
   ],
   "source": [
    "days"
   ]
  },
  {
   "cell_type": "markdown",
   "metadata": {
    "id": "WnLJZPXf9ES0"
   },
   "source": [
    "Consider a plot of the number of praises given broken down by day of the month. We see that the most praise is given on the 5th day of the month."
   ]
  },
  {
   "cell_type": "code",
   "execution_count": 55,
   "metadata": {
    "id": "-N7nbCjF6_VB"
   },
   "outputs": [
    {
     "data": {
      "image/png": "[encoded data removed]",
      "text/plain": [
       "<Figure size 432x288 with 1 Axes>"
      ]
     },
     "metadata": {
      "needs_background": "light"
     },
     "output_type": "display_data"
    }
   ],
   "source": [
    "fig, ax = plt.subplots()\n",
    "ax.bar(days[\"Day\"], days[\"To\"], color='k')\n",
    "ax.set_ylim(0, days[\"To\"].max()+5)\n",
    "fig.autofmt_xdate()\n",
    "plt.xlabel('Day of Month')\n",
    "plt.ylabel('Counts')\n",
    "plt.show()\n"
   ]
  },
  {
   "cell_type": "code",
   "execution_count": 56,
   "metadata": {
    "id": "N8mVG3C67v5H"
   },
   "outputs": [],
   "source": [
    "months = df.groupby(['Month']).To.nunique().reset_index()"
   ]
  },
  {
   "cell_type": "markdown",
   "metadata": {
    "id": "1R6LVjqt9rwx"
   },
   "source": [
    "Consider a plot of the number of praises given broken down by the month. We see that the most praise is given in April. Interestingly, no praise at all is given between the months of June-October. "
   ]
  },
  {
   "cell_type": "code",
   "execution_count": 57,
   "metadata": {
    "id": "Wb6vs32u7zbw"
   },
   "outputs": [
    {
     "data": {
      "image/png": "[encoded data removed]",
      "text/plain": [
       "<Figure size 432x288 with 1 Axes>"
      ]
     },
     "metadata": {
      "needs_background": "light"
     },
     "output_type": "display_data"
    }
   ],
   "source": [
    "fig, ax = plt.subplots()\n",
    "ax.bar(months[\"Month\"], months[\"To\"], color='k')\n",
    "ax.set_ylim(0, months[\"To\"].max()+5)\n",
    "fig.autofmt_xdate()\n",
    "plt.xlabel('Month')\n",
    "plt.ylabel('Counts')\n",
    "plt.show()"
   ]
  },
  {
   "cell_type": "code",
   "execution_count": 58,
   "metadata": {
    "id": "txZQEcBq-ENP"
   },
   "outputs": [],
   "source": [
    "dates = df.groupby(['Date']).To.nunique().reset_index()"
   ]
  },
  {
   "cell_type": "code",
   "execution_count": null,
   "metadata": {
    "id": "D2djP6UNBmEP"
   },
   "outputs": [],
   "source": []
  },
  {
   "cell_type": "code",
   "execution_count": 59,
   "metadata": {
    "id": "WPuTYCmy-Hq5"
   },
   "outputs": [
    {
     "data": {
      "image/png": "[encoded data removed]",
      "text/plain": [
       "<Figure size 432x288 with 1 Axes>"
      ]
     },
     "metadata": {
      "needs_background": "light"
     },
     "output_type": "display_data"
    }
   ],
   "source": [
    "\n",
    "fig, ax = plt.subplots()\n",
    "ax.plot_date(dates[\"Date\"], dates[\"To\"], color='k', xdate=True)\n",
    "ax.set_ylim(0, dates[\"To\"].max()+5)\n",
    "fig.autofmt_xdate()\n",
    "plt.xlabel('Date')\n",
    "plt.ylabel('Counts')\n",
    "plt.show()"
   ]
  },
  {
   "cell_type": "code",
   "execution_count": 60,
   "metadata": {
    "id": "s-JdKMOaB6Yh"
   },
   "outputs": [
    {
     "data": {
      "text/plain": [
       "<AxesSubplot:xlabel='Date', ylabel='To'>"
      ]
     },
     "execution_count": 60,
     "metadata": {},
     "output_type": "execute_result"
    },
    {
     "data": {
      "image/png": "[encoded data removed]",
      "text/plain": [
       "<Figure size 432x288 with 1 Axes>"
      ]
     },
     "metadata": {
      "needs_background": "light"
     },
     "output_type": "display_data"
    }
   ],
   "source": [
    "sns.lineplot(x=\"Date\", y=\"To\", data=dates)"
   ]
  },
  {
   "cell_type": "code",
   "execution_count": 61,
   "metadata": {
    "id": "WF2IbeKdCQnG"
   },
   "outputs": [
    {
     "data": {
      "text/html": [
       "<div>\n",
       "<style scoped>\n",
       "    .dataframe tbody tr th:only-of-type {\n",
       "        vertical-align: middle;\n",
       "    }\n",
       "\n",
       "    .dataframe tbody tr th {\n",
       "        vertical-align: top;\n",
       "    }\n",
       "\n",
       "    .dataframe thead th {\n",
       "        text-align: right;\n",
       "    }\n",
       "</style>\n",
       "<table border=\"1\" class=\"dataframe\">\n",
       "  <thead>\n",
       "    <tr style=\"text-align: right;\">\n",
       "      <th></th>\n",
       "      <th>Date</th>\n",
       "      <th>To</th>\n",
       "    </tr>\n",
       "  </thead>\n",
       "  <tbody>\n",
       "    <tr>\n",
       "      <th>95</th>\n",
       "      <td>2021-02-26</td>\n",
       "      <td>92</td>\n",
       "    </tr>\n",
       "    <tr>\n",
       "      <th>163</th>\n",
       "      <td>2021-05-07</td>\n",
       "      <td>84</td>\n",
       "    </tr>\n",
       "    <tr>\n",
       "      <th>101</th>\n",
       "      <td>2021-03-05</td>\n",
       "      <td>81</td>\n",
       "    </tr>\n",
       "    <tr>\n",
       "      <th>156</th>\n",
       "      <td>2021-04-30</td>\n",
       "      <td>73</td>\n",
       "    </tr>\n",
       "    <tr>\n",
       "      <th>136</th>\n",
       "      <td>2021-04-09</td>\n",
       "      <td>73</td>\n",
       "    </tr>\n",
       "    <tr>\n",
       "      <th>...</th>\n",
       "      <td>...</td>\n",
       "      <td>...</td>\n",
       "    </tr>\n",
       "    <tr>\n",
       "      <th>37</th>\n",
       "      <td>2020-12-29</td>\n",
       "      <td>1</td>\n",
       "    </tr>\n",
       "    <tr>\n",
       "      <th>69</th>\n",
       "      <td>2021-01-31</td>\n",
       "      <td>1</td>\n",
       "    </tr>\n",
       "    <tr>\n",
       "      <th>102</th>\n",
       "      <td>2021-03-06</td>\n",
       "      <td>1</td>\n",
       "    </tr>\n",
       "    <tr>\n",
       "      <th>158</th>\n",
       "      <td>2021-05-02</td>\n",
       "      <td>1</td>\n",
       "    </tr>\n",
       "    <tr>\n",
       "      <th>8</th>\n",
       "      <td>2020-11-29</td>\n",
       "      <td>1</td>\n",
       "    </tr>\n",
       "  </tbody>\n",
       "</table>\n",
       "<p>165 rows × 2 columns</p>\n",
       "</div>"
      ],
      "text/plain": [
       "          Date  To\n",
       "95  2021-02-26  92\n",
       "163 2021-05-07  84\n",
       "101 2021-03-05  81\n",
       "156 2021-04-30  73\n",
       "136 2021-04-09  73\n",
       "..         ...  ..\n",
       "37  2020-12-29   1\n",
       "69  2021-01-31   1\n",
       "102 2021-03-06   1\n",
       "158 2021-05-02   1\n",
       "8   2020-11-29   1\n",
       "\n",
       "[165 rows x 2 columns]"
      ]
     },
     "execution_count": 61,
     "metadata": {},
     "output_type": "execute_result"
    }
   ],
   "source": [
    "dates.sort_values(by=['To'], ascending=False)"
   ]
  },
  {
   "cell_type": "code",
   "execution_count": 62,
   "metadata": {
    "id": "Fa5VRCIvx6Al"
   },
   "outputs": [],
   "source": [
    "df.to_csv(\"processed_praise.csv\")"
   ]
  },
  {
   "cell_type": "code",
   "execution_count": 63,
   "metadata": {
    "id": "sZCNZ69KZ9SY"
   },
   "outputs": [],
   "source": [
    "# Run this cell to install the pygraphviz library\n",
    "#!apt-get install python3-dev graphviz libgraphviz-dev pkg-config\n",
    "#!pip install pygraphviz"
   ]
  },
  {
   "cell_type": "code",
   "execution_count": 64,
   "metadata": {
    "id": "pjxsHTQ5adEL"
   },
   "outputs": [
    {
     "ename": "ModuleNotFoundError",
     "evalue": "No module named 'pygraphviz'",
     "output_type": "error",
     "traceback": [
      "\u001b[1;31m---------------------------------------------------------------------------\u001b[0m",
      "\u001b[1;31mModuleNotFoundError\u001b[0m                       Traceback (most recent call last)",
      "\u001b[1;32m<ipython-input-64-0491a6ed60a3>\u001b[0m in \u001b[0;36m<module>\u001b[1;34m\u001b[0m\n\u001b[0;32m      1\u001b[0m \u001b[1;32mimport\u001b[0m \u001b[0mnetworkx\u001b[0m \u001b[1;32mas\u001b[0m \u001b[0mnx\u001b[0m\u001b[1;33m\u001b[0m\u001b[1;33m\u001b[0m\u001b[0m\n\u001b[1;32m----> 2\u001b[1;33m \u001b[1;32mimport\u001b[0m \u001b[0mpygraphviz\u001b[0m\u001b[1;33m\u001b[0m\u001b[1;33m\u001b[0m\u001b[0m\n\u001b[0m",
      "\u001b[1;31mModuleNotFoundError\u001b[0m: No module named 'pygraphviz'"
     ]
    }
   ],
   "source": [
    "import networkx as nx\n",
    "import pygraphviz"
   ]
  },
  {
   "cell_type": "markdown",
   "metadata": {
    "id": "fA5kpsv_Z1dD"
   },
   "source": [
    "We will attempt to make a graph from the dataframe. \n",
    "\n",
    "First we will begin with a simple proof of concept. "
   ]
  },
  {
   "cell_type": "code",
   "execution_count": null,
   "metadata": {
    "id": "GQVVZhb2Z0It"
   },
   "outputs": [],
   "source": [
    "df = pd.read_csv(\"receivers.csv\")\n",
    "df.head()\n",
    "df.columns\n",
    "G = nx.DiGraph()\n",
    "edges = df[['To','From']]\n",
    "\n",
    "\n",
    "for ind, tup in edges[1:2].iterrows():\n",
    "  to = tup[0]\n",
    "  fro = tup[1]\n",
    "  G.add_edge(fro, to)\n",
    "\n",
    "  \n",
    "G.edges\n",
    "G = nx.nx_agraph.to_agraph(G)"
   ]
  },
  {
   "cell_type": "code",
   "execution_count": null,
   "metadata": {
    "id": "x0H4jKTmZ4hN"
   },
   "outputs": [],
   "source": [
    "G.layout(prog=\"dot\")\n",
    "G.draw(\"file.png\") "
   ]
  },
  {
   "cell_type": "code",
   "execution_count": null,
   "metadata": {
    "id": "gOjWCAw_aHr0"
   },
   "outputs": [],
   "source": [
    "edges[1:2]\n"
   ]
  },
  {
   "cell_type": "markdown",
   "metadata": {
    "id": "6eI7lbalakye"
   },
   "source": [
    "![](https://drive.google.com/uc?export=view&id=1u9YuyqRxjnbXfDNA3ywuxNTI4CPWo54h)"
   ]
  },
  {
   "cell_type": "markdown",
   "metadata": {
    "id": "jYTZWjoBapdg"
   },
   "source": [
    "Now we create a function that will automate this process."
   ]
  },
  {
   "cell_type": "code",
   "execution_count": null,
   "metadata": {
    "id": "nVV0opqwaKYG"
   },
   "outputs": [],
   "source": [
    "def viz_graph(df, file_name):\n",
    "  \"\"\"\n",
    "  Creates a visualization of a graph created from a dataset of praise. \n",
    "\n",
    "  :param df: The dataframe that contains who the praise is from and who it is to.\n",
    "  Note that this dataframe should ONLY contain columns To and From.\n",
    "  :param file_name: The name of the image that will be saved to your computer. \n",
    "  \"\"\"\n",
    "\n",
    "  G = nx.DiGraph()\n",
    "\n",
    "  for ind, tup in df.iterrows():\n",
    "    to = tup[0]\n",
    "    fro = tup[1]\n",
    "    G.add_edge(fro, to)\n",
    "\n",
    "  G = nx.nx_agraph.to_agraph(G)\n",
    "  G.layout(prog=\"dot\")\n",
    "  G.draw(file_name) \n",
    "  return G"
   ]
  },
  {
   "cell_type": "code",
   "execution_count": null,
   "metadata": {
    "id": "_fZroOtjaocr"
   },
   "outputs": [],
   "source": [
    "#viz_graph(edges, \"praise_graph.png\")"
   ]
  },
  {
   "cell_type": "markdown",
   "metadata": {
    "id": "86OzauWqaxi2"
   },
   "source": [
    "You can use boolean conditions to get more specific graphs. "
   ]
  },
  {
   "cell_type": "code",
   "execution_count": null,
   "metadata": {
    "id": "f1q04KyZax0s"
   },
   "outputs": [],
   "source": [
    "#viz_graph(edges[edges[\"To\"] == \"zeptimusQ\"], \"zeptimus_praise_graph.png\")"
   ]
  },
  {
   "cell_type": "code",
   "execution_count": null,
   "metadata": {
    "id": "KBUS_WPUazwu"
   },
   "outputs": [],
   "source": [
    "def to_user_graph(df, user, file_name):\n",
    "  \"\"\"\n",
    "  Creates a visualization of a graph created from a dataset of praise. \n",
    "\n",
    "  :param df: The dataframe that contains who the praise is from and who it is to.\n",
    "  Note that this dataframe should ONLY contain columns To and From.\n",
    "  :param user: All donations to this user will be graphed. \n",
    "  :param file_name: The name of the image that will be saved to your computer. \n",
    "  \"\"\"\n",
    "  df = pd.read_csv(\"recievers.csv\")\n",
    "  G = nx.DiGraph()\n",
    "\n",
    "  for ind, tup in edges[edges[\"To\"] == user].iterrows():\n",
    "    to = tup[0]\n",
    "    fro = tup[1]\n",
    "    G.add_edge(fro, to)\n",
    "\n",
    "  G = nx.nx_agraph.to_agraph(G)\n",
    "  G.layout(prog=\"dot\")\n",
    "  G.draw(file_name) \n",
    "  return G"
   ]
  },
  {
   "cell_type": "code",
   "execution_count": null,
   "metadata": {
    "id": "xfGBMZf0a1Sd"
   },
   "outputs": [],
   "source": [
    "def from_user_graph(df, user, file_name):\n",
    "  \"\"\"\n",
    "  Creates a visualization of a graph created from a dataset of praise. \n",
    "\n",
    "  :param df: The dataframe that contains who the praise is from and who it is to.\n",
    "  Note that this dataframe should ONLY contain columns To and From.\n",
    "  :param user: All donations from this user will be graphed. \n",
    "  :param file_name: The name of the image that will be saved to your computer. \n",
    "  \"\"\"\n",
    "  df = pd.read_csv(\"recievers.csv\")\n",
    "  G = nx.DiGraph()\n",
    "\n",
    "  for ind, tup in edges[edges[\"To\"] == user].iterrows():\n",
    "    to = tup[0]\n",
    "    fro = tup[1]\n",
    "    G.add_edge(to, fro)\n",
    "\n",
    "  G = nx.nx_agraph.to_agraph(G)\n",
    "  G.layout(prog=\"dot\")\n",
    "  G.draw(file_name) \n",
    "  return G"
   ]
  },
  {
   "cell_type": "markdown",
   "metadata": {
    "id": "7Sj6HDoda47h"
   },
   "source": [
    "# You can utilize these 2 forms to create user graphs. The first one will create a graph of donations from the provided user and the second form will graph donations to the provided user."
   ]
  },
  {
   "cell_type": "code",
   "execution_count": null,
   "metadata": {
    "id": "JqskJ4PEa2fW"
   },
   "outputs": [],
   "source": [
    "df_str = \"receivers.csv\" #@param {type:\"string\"}\n",
    "user = \"zeptimusQ\" #@param {type:\"string\"}\n",
    "file_name = \"zeptimusQ_to_graph.png\" #@param {type:\"string\"}\n",
    "from_user_graph(df=df_str, user=user,file_name=file_name)"
   ]
  },
  {
   "cell_type": "code",
   "execution_count": null,
   "metadata": {
    "id": "H-oeMbXOa7ac"
   },
   "outputs": [],
   "source": [
    "df_str = \"receivers.csv\" #@param {type:\"string\"}\n",
    "user = \"recievers.csv\" #@param {type:\"string\"}\n",
    "file_name = \"zeptimusQ_from_graph.png\" #@param {type:\"string\"}\n",
    "to_user_graph(df=df_str, user=user,file_name=file_name)\n"
   ]
  }
 ],
 "metadata": {
  "colab": {
   "collapsed_sections": [],
   "name": "praise-to-and-from.ipynb",
   "provenance": [],
   "toc_visible": true
  },
  "kernelspec": {
   "display_name": "Python 3",
   "language": "python",
   "name": "python3"
  },
  "language_info": {
   "codemirror_mode": {
    "name": "ipython",
    "version": 3
   },
   "file_extension": ".py",
   "mimetype": "text/x-python",
   "name": "python",
   "nbconvert_exporter": "python",
   "pygments_lexer": "ipython3",
   "version": "3.8.5"
  }
 },
 "nbformat": 4,
 "nbformat_minor": 1
}
